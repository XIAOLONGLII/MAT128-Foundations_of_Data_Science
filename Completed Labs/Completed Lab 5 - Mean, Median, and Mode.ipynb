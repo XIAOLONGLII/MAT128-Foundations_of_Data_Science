{
 "cells": [
  {
   "cell_type": "markdown",
   "metadata": {},
   "source": [
    "### Lab 5 - Mean, Median, and Mode\n",
    "\n",
    "In this lab, we will learn how some different ways to measure the *central tendancy* of data: the mean, median, and mode. \n",
    "\n",
    "The [Museum of Modern Art (MoMA)](https://www.moma.org) has uploaded data about the artwork and artists in its collection at GitHub: [https://github.com/MuseumofModernArt/collection](https://github.com/MuseumofModernArt/collection).  We will work with the artwork dataset, [Artworks.csv](https://github.com/MuseumofModernArt/collection/blob/master/Artworks.csv).  Download this dataset and upload it to your Jupyter Hub.\n",
    "\n",
    "As usual, we will import the matplotlib and pandas packages, and set plots to appear in the Jupyter notebook."
   ]
  },
  {
   "cell_type": "code",
   "execution_count": 1,
   "metadata": {
    "collapsed": true
   },
   "outputs": [],
   "source": [
    "import matplotlib.pyplot as plt\n",
    "import pandas as pd\n",
    "%matplotlib inline"
   ]
  },
  {
   "cell_type": "markdown",
   "metadata": {},
   "source": [
    "Load the data from the CSV file into a dataframe called `art`."
   ]
  },
  {
   "cell_type": "code",
   "execution_count": 3,
   "metadata": {
    "collapsed": true
   },
   "outputs": [],
   "source": [
    "art = pd.read_csv(\"../../data/Artworks.csv\")"
   ]
  },
  {
   "cell_type": "markdown",
   "metadata": {},
   "source": [
    "Check that the dataframe was created properly by displaying it."
   ]
  },
  {
   "cell_type": "code",
   "execution_count": 4,
   "metadata": {},
   "outputs": [
    {
     "data": {
      "text/html": [
       "<div>\n",
       "<style scoped>\n",
       "    .dataframe tbody tr th:only-of-type {\n",
       "        vertical-align: middle;\n",
       "    }\n",
       "\n",
       "    .dataframe tbody tr th {\n",
       "        vertical-align: top;\n",
       "    }\n",
       "\n",
       "    .dataframe thead th {\n",
       "        text-align: right;\n",
       "    }\n",
       "</style>\n",
       "<table border=\"1\" class=\"dataframe\">\n",
       "  <thead>\n",
       "    <tr style=\"text-align: right;\">\n",
       "      <th></th>\n",
       "      <th>Title</th>\n",
       "      <th>Artist</th>\n",
       "      <th>ConstituentID</th>\n",
       "      <th>ArtistBio</th>\n",
       "      <th>Nationality</th>\n",
       "      <th>BeginDate</th>\n",
       "      <th>EndDate</th>\n",
       "      <th>Gender</th>\n",
       "      <th>Date</th>\n",
       "      <th>Medium</th>\n",
       "      <th>...</th>\n",
       "      <th>ThumbnailURL</th>\n",
       "      <th>Circumference (cm)</th>\n",
       "      <th>Depth (cm)</th>\n",
       "      <th>Diameter (cm)</th>\n",
       "      <th>Height (cm)</th>\n",
       "      <th>Length (cm)</th>\n",
       "      <th>Weight (kg)</th>\n",
       "      <th>Width (cm)</th>\n",
       "      <th>Seat Height (cm)</th>\n",
       "      <th>Duration (sec.)</th>\n",
       "    </tr>\n",
       "  </thead>\n",
       "  <tbody>\n",
       "    <tr>\n",
       "      <th>0</th>\n",
       "      <td>Ferdinandsbrücke Project, Vienna, Austria, Ele...</td>\n",
       "      <td>Otto Wagner</td>\n",
       "      <td>6210</td>\n",
       "      <td>(Austrian, 1841–1918)</td>\n",
       "      <td>(Austrian)</td>\n",
       "      <td>(1841)</td>\n",
       "      <td>(1918)</td>\n",
       "      <td>(Male)</td>\n",
       "      <td>1896</td>\n",
       "      <td>Ink and cut-and-pasted painted pages on paper</td>\n",
       "      <td>...</td>\n",
       "      <td>http://www.moma.org/media/W1siZiIsIjU5NDA1Il0s...</td>\n",
       "      <td>NaN</td>\n",
       "      <td>NaN</td>\n",
       "      <td>NaN</td>\n",
       "      <td>48.6000</td>\n",
       "      <td>NaN</td>\n",
       "      <td>NaN</td>\n",
       "      <td>168.9000</td>\n",
       "      <td>NaN</td>\n",
       "      <td>NaN</td>\n",
       "    </tr>\n",
       "    <tr>\n",
       "      <th>1</th>\n",
       "      <td>City of Music, National Superior Conservatory ...</td>\n",
       "      <td>Christian de Portzamparc</td>\n",
       "      <td>7470</td>\n",
       "      <td>(French, born 1944)</td>\n",
       "      <td>(French)</td>\n",
       "      <td>(1944)</td>\n",
       "      <td>(0)</td>\n",
       "      <td>(Male)</td>\n",
       "      <td>1987</td>\n",
       "      <td>Paint and colored pencil on print</td>\n",
       "      <td>...</td>\n",
       "      <td>http://www.moma.org/media/W1siZiIsIjk3Il0sWyJw...</td>\n",
       "      <td>NaN</td>\n",
       "      <td>NaN</td>\n",
       "      <td>NaN</td>\n",
       "      <td>40.6401</td>\n",
       "      <td>NaN</td>\n",
       "      <td>NaN</td>\n",
       "      <td>29.8451</td>\n",
       "      <td>NaN</td>\n",
       "      <td>NaN</td>\n",
       "    </tr>\n",
       "    <tr>\n",
       "      <th>2</th>\n",
       "      <td>Villa near Vienna Project, Outside Vienna, Aus...</td>\n",
       "      <td>Emil Hoppe</td>\n",
       "      <td>7605</td>\n",
       "      <td>(Austrian, 1876–1957)</td>\n",
       "      <td>(Austrian)</td>\n",
       "      <td>(1876)</td>\n",
       "      <td>(1957)</td>\n",
       "      <td>(Male)</td>\n",
       "      <td>1903</td>\n",
       "      <td>Graphite, pen, color pencil, ink, and gouache ...</td>\n",
       "      <td>...</td>\n",
       "      <td>http://www.moma.org/media/W1siZiIsIjk4Il0sWyJw...</td>\n",
       "      <td>NaN</td>\n",
       "      <td>NaN</td>\n",
       "      <td>NaN</td>\n",
       "      <td>34.3000</td>\n",
       "      <td>NaN</td>\n",
       "      <td>NaN</td>\n",
       "      <td>31.8000</td>\n",
       "      <td>NaN</td>\n",
       "      <td>NaN</td>\n",
       "    </tr>\n",
       "    <tr>\n",
       "      <th>3</th>\n",
       "      <td>The Manhattan Transcripts Project, New York, N...</td>\n",
       "      <td>Bernard Tschumi</td>\n",
       "      <td>7056</td>\n",
       "      <td>(French and Swiss, born Switzerland 1944)</td>\n",
       "      <td>()</td>\n",
       "      <td>(1944)</td>\n",
       "      <td>(0)</td>\n",
       "      <td>(Male)</td>\n",
       "      <td>1980</td>\n",
       "      <td>Photographic reproduction with colored synthet...</td>\n",
       "      <td>...</td>\n",
       "      <td>http://www.moma.org/media/W1siZiIsIjEyNCJdLFsi...</td>\n",
       "      <td>NaN</td>\n",
       "      <td>NaN</td>\n",
       "      <td>NaN</td>\n",
       "      <td>50.8000</td>\n",
       "      <td>NaN</td>\n",
       "      <td>NaN</td>\n",
       "      <td>50.8000</td>\n",
       "      <td>NaN</td>\n",
       "      <td>NaN</td>\n",
       "    </tr>\n",
       "    <tr>\n",
       "      <th>4</th>\n",
       "      <td>Villa, project, outside Vienna, Austria, Exter...</td>\n",
       "      <td>Emil Hoppe</td>\n",
       "      <td>7605</td>\n",
       "      <td>(Austrian, 1876–1957)</td>\n",
       "      <td>(Austrian)</td>\n",
       "      <td>(1876)</td>\n",
       "      <td>(1957)</td>\n",
       "      <td>(Male)</td>\n",
       "      <td>1903</td>\n",
       "      <td>Graphite, color pencil, ink, and gouache on tr...</td>\n",
       "      <td>...</td>\n",
       "      <td>http://www.moma.org/media/W1siZiIsIjEyNiJdLFsi...</td>\n",
       "      <td>NaN</td>\n",
       "      <td>NaN</td>\n",
       "      <td>NaN</td>\n",
       "      <td>38.4000</td>\n",
       "      <td>NaN</td>\n",
       "      <td>NaN</td>\n",
       "      <td>19.1000</td>\n",
       "      <td>NaN</td>\n",
       "      <td>NaN</td>\n",
       "    </tr>\n",
       "  </tbody>\n",
       "</table>\n",
       "<p>5 rows × 29 columns</p>\n",
       "</div>"
      ],
      "text/plain": [
       "                                               Title  \\\n",
       "0  Ferdinandsbrücke Project, Vienna, Austria, Ele...   \n",
       "1  City of Music, National Superior Conservatory ...   \n",
       "2  Villa near Vienna Project, Outside Vienna, Aus...   \n",
       "3  The Manhattan Transcripts Project, New York, N...   \n",
       "4  Villa, project, outside Vienna, Austria, Exter...   \n",
       "\n",
       "                     Artist ConstituentID  \\\n",
       "0               Otto Wagner          6210   \n",
       "1  Christian de Portzamparc          7470   \n",
       "2                Emil Hoppe          7605   \n",
       "3           Bernard Tschumi          7056   \n",
       "4                Emil Hoppe          7605   \n",
       "\n",
       "                                   ArtistBio Nationality BeginDate EndDate  \\\n",
       "0                      (Austrian, 1841–1918)  (Austrian)    (1841)  (1918)   \n",
       "1                        (French, born 1944)    (French)    (1944)     (0)   \n",
       "2                      (Austrian, 1876–1957)  (Austrian)    (1876)  (1957)   \n",
       "3  (French and Swiss, born Switzerland 1944)          ()    (1944)     (0)   \n",
       "4                      (Austrian, 1876–1957)  (Austrian)    (1876)  (1957)   \n",
       "\n",
       "   Gender  Date                                             Medium  ...  \\\n",
       "0  (Male)  1896      Ink and cut-and-pasted painted pages on paper  ...   \n",
       "1  (Male)  1987                  Paint and colored pencil on print  ...   \n",
       "2  (Male)  1903  Graphite, pen, color pencil, ink, and gouache ...  ...   \n",
       "3  (Male)  1980  Photographic reproduction with colored synthet...  ...   \n",
       "4  (Male)  1903  Graphite, color pencil, ink, and gouache on tr...  ...   \n",
       "\n",
       "                                        ThumbnailURL Circumference (cm)  \\\n",
       "0  http://www.moma.org/media/W1siZiIsIjU5NDA1Il0s...                NaN   \n",
       "1  http://www.moma.org/media/W1siZiIsIjk3Il0sWyJw...                NaN   \n",
       "2  http://www.moma.org/media/W1siZiIsIjk4Il0sWyJw...                NaN   \n",
       "3  http://www.moma.org/media/W1siZiIsIjEyNCJdLFsi...                NaN   \n",
       "4  http://www.moma.org/media/W1siZiIsIjEyNiJdLFsi...                NaN   \n",
       "\n",
       "  Depth (cm) Diameter (cm) Height (cm) Length (cm) Weight (kg)  Width (cm)  \\\n",
       "0        NaN           NaN     48.6000         NaN         NaN    168.9000   \n",
       "1        NaN           NaN     40.6401         NaN         NaN     29.8451   \n",
       "2        NaN           NaN     34.3000         NaN         NaN     31.8000   \n",
       "3        NaN           NaN     50.8000         NaN         NaN     50.8000   \n",
       "4        NaN           NaN     38.4000         NaN         NaN     19.1000   \n",
       "\n",
       "  Seat Height (cm) Duration (sec.)  \n",
       "0              NaN             NaN  \n",
       "1              NaN             NaN  \n",
       "2              NaN             NaN  \n",
       "3              NaN             NaN  \n",
       "4              NaN             NaN  \n",
       "\n",
       "[5 rows x 29 columns]"
      ]
     },
     "execution_count": 4,
     "metadata": {},
     "output_type": "execute_result"
    }
   ],
   "source": [
    "art.head()"
   ]
  },
  {
   "cell_type": "markdown",
   "metadata": {},
   "source": [
    "Which columns contain categorical data?\n",
    "\n",
    "The *mode* is the data value that appears most frequently.  It is the main way that central tendancy is measured for categorical data.  We will compute the mode of the `Medium` column which is what material(s) the artwork was made of.\n",
    "\n",
    "One way to find the mode is to compute the value counts, and look at the top value.  Try this below.  We computed the value counts in Lab 3."
   ]
  },
  {
   "cell_type": "code",
   "execution_count": 6,
   "metadata": {},
   "outputs": [
    {
     "data": {
      "text/plain": [
       "Gelatin silver print                                                                                                                                                                                 15399\n",
       "Lithograph                                                                                                                                                                                            7582\n",
       "Albumen silver print                                                                                                                                                                                  4854\n",
       "Pencil on paper                                                                                                                                                                                       1831\n",
       "Letterpress                                                                                                                                                                                           1680\n",
       "Etching                                                                                                                                                                                               1656\n",
       "Chromogenic color print                                                                                                                                                                               1624\n",
       "Lithograph, printed in color                                                                                                                                                                          1573\n",
       "Ink on paper                                                                                                                                                                                          1456\n",
       "Pencil on tracing paper                                                                                                                                                                               1268\n",
       "Lithograph, printed in black                                                                                                                                                                          1167\n",
       "Video (color, sound)                                                                                                                                                                                  1140\n",
       "Offset lithograph                                                                                                                                                                                     1075\n",
       "Oil on canvas                                                                                                                                                                                         1069\n",
       "Drypoint                                                                                                                                                                                              1056\n",
       "Woodcut                                                                                                                                                                                                962\n",
       "Gelatin silver printing-out-paper print                                                                                                                                                                909\n",
       "Screenprint                                                                                                                                                                                            893\n",
       "35mm film                                                                                                                                                                                              684\n",
       "Poster                                                                                                                                                                                                 672\n",
       "Etching, printed in black                                                                                                                                                                              627\n",
       "Wood engraving, printed in black                                                                                                                                                                       594\n",
       "Photogravure                                                                                                                                                                                           519\n",
       "Woodcut, printed in color                                                                                                                                                                              519\n",
       "35mm film (color, sound)                                                                                                                                                                               518\n",
       "Pigmented inkjet print                                                                                                                                                                                 515\n",
       "Etching and aquatint                                                                                                                                                                                   504\n",
       "Woodcut, printed in black                                                                                                                                                                              490\n",
       "Platinum print                                                                                                                                                                                         482\n",
       "Drypoint, with hand additions                                                                                                                                                                          470\n",
       "                                                                                                                                                                                                     ...  \n",
       "Series of six lithograph and screenprints and one relief print                                                                                                                                           1\n",
       "Lithograph, with embossing and punctures                                                                                                                                                                 1\n",
       "Ink, wash, torn and cut-and-pasted paper, and pastel on paper                                                                                                                                            1\n",
       "Portfolio of six double-sided screenprints                                                                                                                                                               1\n",
       "Felt-tip pen and correction fluid on two pieces of paper                                                                                                                                                 1\n",
       "Lithograph and collotype                                                                                                                                                                                 1\n",
       "Periodical with reproduction on cover and one woodcut by Max Schwimmer                                                                                                                                   1\n",
       "Journal with offset and letterpress cover, containing twenty-eight pasted offset, letterpress, and typewritten plates                                                                                    1\n",
       "Collage of synthetic polymer on cut and pasted paper on cardboard                                                                                                                                        1\n",
       "laser printout, printed in black ink with handwritten notes and edits in pencil on light blue paper                                                                                                      1\n",
       "Ink on cardboard box, containing ink on paper in acrylic box                                                                                                                                             1\n",
       "21 etchings (1 with aquatint), printed in black                                                                                                                                                          1\n",
       "Printed in black and red ink on white paper, with pencil additions                                                                                                                                       1\n",
       "Airbrush, graphite on paper mounted on foamcore                                                                                                                                                          1\n",
       "Etching and aquatint with gold leaf and chine collé from a portfolio of eight etchings (four with aquatint and one with gold leaf) and four aquatints with chine collé; and 25 letterpress prints        1\n",
       "Cut-and-pasted gelatin silver prints on transparentized paper over cut-and-pasted printed paper and gelatin silver prints on paper                                                                       1\n",
       "Paint set with paintbrush, 15 tubes of watercolor paint, and printed card                                                                                                                                1\n",
       "Screenprint with photolithograph collage additions and one duplicate copy                                                                                                                                1\n",
       "Wood box with label, containing sand and three toy whistles                                                                                                                                              1\n",
       "Encaustic, cut painted paper, and cut paper on printed paper\\r\\n                                                                                                                                         1\n",
       ".a) recto: Crayon and ballpoint pen on graph paper  .b) verso: Felt-tip pen on graph paper                                                                                                               1\n",
       "Lead antinomy                                                                                                                                                                                            1\n",
       "Oil and resin on carved gesso, on cardboard                                                                                                                                                              1\n",
       "Color serigraphs                                                                                                                                                                                         1\n",
       ".a) recto: Crayon, pencil and ink on yellow lined paper  .b) verso: Ballpoint pen on yellow lined paper                                                                                                  1\n",
       "Aluminum and rosewood casing and acrylic                                                                                                                                                                 1\n",
       "Twelve folders, each containing six sheets                                                                                                                                                               1\n",
       "Gouache, watercolor and brush and ink on paper                                                                                                                                                           1\n",
       "Cut-and-pasted gelatin silver prints and pencil on paper on board                                                                                                                                        1\n",
       "Gouache and oil on paper                                                                                                                                                                                 1\n",
       "Name: Medium, Length: 21240, dtype: int64"
      ]
     },
     "execution_count": 6,
     "metadata": {},
     "output_type": "execute_result"
    }
   ],
   "source": [
    "art[\"Medium\"].value_counts()"
   ]
  },
  {
   "cell_type": "markdown",
   "metadata": {},
   "source": [
    "<details> <summary>Answer:</summary>\n",
    "    <code>medium_counts = art[\"Medium\"].value_counts()\n",
    "medium_counts</code>\n",
    "</details>\n",
    "\n",
    "What is the mode?  Does this make sense?  (Google the material if you are unfamiliar with it.)\n",
    "\n",
    "Another way to compute the mode is to use the function `mode()`.  Type the code `art[\"Medium\"].mode()` below and run it."
   ]
  },
  {
   "cell_type": "code",
   "execution_count": null,
   "metadata": {
    "collapsed": true
   },
   "outputs": [],
   "source": []
  },
  {
   "cell_type": "markdown",
   "metadata": {},
   "source": [
    "Did you get the same mode as with the value counts?\n",
    "\n",
    "Next we will look at two measures of central tendancy for quantitative data: the mean and the median.  We will use the height of the art work for the quantitative data.  Look at the dataframe to see what the heigh column is called, and write code to display that column below."
   ]
  },
  {
   "cell_type": "code",
   "execution_count": 7,
   "metadata": {},
   "outputs": [
    {
     "data": {
      "text/plain": [
       "0         48.600000\n",
       "1         40.640100\n",
       "2         34.300000\n",
       "3         50.800000\n",
       "4         38.400000\n",
       "5         35.600000\n",
       "6         35.600000\n",
       "7         35.600000\n",
       "8         35.600000\n",
       "9         35.600000\n",
       "10        35.600000\n",
       "11        35.600000\n",
       "12        35.600000\n",
       "13        35.600000\n",
       "14        35.600000\n",
       "15        35.600000\n",
       "16        35.600000\n",
       "17        35.600000\n",
       "18        35.600000\n",
       "19        35.600000\n",
       "20        35.600000\n",
       "21        35.600000\n",
       "22        35.600000\n",
       "23        35.600000\n",
       "24        35.600000\n",
       "25        35.600000\n",
       "26        35.600000\n",
       "27        35.600000\n",
       "28        35.600000\n",
       "29        35.600000\n",
       "            ...    \n",
       "138344    35.560071\n",
       "138345    66.675133\n",
       "138346    62.547625\n",
       "138347    62.547625\n",
       "138348          NaN\n",
       "138349          NaN\n",
       "138350    23.495047\n",
       "138351    21.300000\n",
       "138352    20.320041\n",
       "138353    20.320041\n",
       "138354          NaN\n",
       "138355          NaN\n",
       "138356          NaN\n",
       "138357          NaN\n",
       "138358    48.260097\n",
       "138359          NaN\n",
       "138360    50.800102\n",
       "138361          NaN\n",
       "138362          NaN\n",
       "138363          NaN\n",
       "138364          NaN\n",
       "138365          NaN\n",
       "138366          NaN\n",
       "138367          NaN\n",
       "138368     5.900000\n",
       "138369          NaN\n",
       "138370    17.780036\n",
       "138371    12.700000\n",
       "138372    24.000000\n",
       "138373    24.000000\n",
       "Name: Height (cm), Length: 138374, dtype: float64"
      ]
     },
     "execution_count": 7,
     "metadata": {},
     "output_type": "execute_result"
    }
   ],
   "source": [
    "art[\"Height (cm)\"]"
   ]
  },
  {
   "cell_type": "markdown",
   "metadata": {},
   "source": [
    "<details> <summary>Pattern:</summary>\n",
    "    <code>dataframe_name[\"column_name\"]</code>\n",
    "</details>\n",
    "\n",
    "Plot the histogram of the heights below to see the distribution of this (statistical) variable.  We learned how to make histograms in Lab 4."
   ]
  },
  {
   "cell_type": "code",
   "execution_count": 8,
   "metadata": {},
   "outputs": [
    {
     "data": {
      "text/plain": [
       "<matplotlib.axes._subplots.AxesSubplot at 0x7f86708b3c50>"
      ]
     },
     "execution_count": 8,
     "metadata": {},
     "output_type": "execute_result"
    },
    {
     "data": {
      "image/png": "[encoded data removed]",
      "text/plain": [
       "<Figure size 432x288 with 1 Axes>"
      ]
     },
     "metadata": {
      "needs_background": "light"
     },
     "output_type": "display_data"
    }
   ],
   "source": [
    "art[\"Height (cm)\"].hist(bins = 80)"
   ]
  },
  {
   "cell_type": "markdown",
   "metadata": {},
   "source": [
    "<details> <summary>Answer:</summary>\n",
    "    <code>art[\"Height (cm)\"].hist(bins = 80)</code>\n",
    "</details>\n",
    "\n",
    "What do you notice about this distribution? What do you think causes this?\n",
    "\n",
    "Extreme data values are called *outliers*.  Let's look at the artwork with the greatest height.  We can get the maximum data value with the function `max()`.  To get the maximum height, type the code `art[\"Height (cm)\"].max()` below and run it."
   ]
  },
  {
   "cell_type": "code",
   "execution_count": 9,
   "metadata": {},
   "outputs": [
    {
     "data": {
      "text/plain": [
       "9140.0"
      ]
     },
     "execution_count": 9,
     "metadata": {},
     "output_type": "execute_result"
    }
   ],
   "source": [
    "art[\"Height (cm)\"].max()"
   ]
  },
  {
   "cell_type": "markdown",
   "metadata": {},
   "source": [
    "Do you think MoMA has an artwork that is 91m high?  Let's investigate further.  To find the row with this max height, we can use the function `idxmax()` which finds the row number of the maximum.  We will save this in the variable `max_row` with the code `max_row = art[\"Height (cm)\"].idxmax()`.  Type and run it below."
   ]
  },
  {
   "cell_type": "code",
   "execution_count": 10,
   "metadata": {
    "collapsed": true
   },
   "outputs": [],
   "source": [
    "max_row = art[\"Height (cm)\"].idxmax()"
   ]
  },
  {
   "cell_type": "markdown",
   "metadata": {},
   "source": [
    "What row is the artwork with the maximum height?"
   ]
  },
  {
   "cell_type": "code",
   "execution_count": 11,
   "metadata": {},
   "outputs": [
    {
     "data": {
      "text/plain": [
       "87572"
      ]
     },
     "execution_count": 11,
     "metadata": {},
     "output_type": "execute_result"
    }
   ],
   "source": [
    "max_row"
   ]
  },
  {
   "cell_type": "markdown",
   "metadata": {},
   "source": [
    "To display the full row of data about this artwork, we use the code `.iloc[]`.  `iloc` is *not* a function because it is followed by square brackets instead of parentheses, but it works similarly to one.  Type and run the code `art.iloc[max_row]` below."
   ]
  },
  {
   "cell_type": "code",
   "execution_count": 12,
   "metadata": {},
   "outputs": [
    {
     "data": {
      "text/plain": [
       "Title                                                           To Lift\n",
       "Artist                                                    Richard Serra\n",
       "ConstituentID                                                      5349\n",
       "ArtistBio                                         (American, born 1938)\n",
       "Nationality                                                  (American)\n",
       "BeginDate                                                        (1938)\n",
       "EndDate                                                             (0)\n",
       "Gender                                                           (Male)\n",
       "Date                                                               1967\n",
       "Medium                                                Vulcanized rubber\n",
       "Dimensions                    36\" x 6' 8\" x 60\" (91.4 x 200 x 152.4 cm)\n",
       "CreditLine                                           Gift of the artist\n",
       "AccessionNumber                                                458.2007\n",
       "Classification                                                Sculpture\n",
       "Department                                         Painting & Sculpture\n",
       "DateAcquired                                                 2007-10-01\n",
       "Cataloged                                                             Y\n",
       "ObjectID                                                         101902\n",
       "URL                         http://www.moma.org/collection/works/101902\n",
       "ThumbnailURL          http://www.moma.org/media/W1siZiIsIjQyNDI4MiJd...\n",
       "Circumference (cm)                                                  NaN\n",
       "Depth (cm)                                                        152.4\n",
       "Diameter (cm)                                                       NaN\n",
       "Height (cm)                                                        9140\n",
       "Length (cm)                                                         NaN\n",
       "Weight (kg)                                                         NaN\n",
       "Width (cm)                                                          200\n",
       "Seat Height (cm)                                                    NaN\n",
       "Duration (sec.)                                                     NaN\n",
       "Name: 87572, dtype: object"
      ]
     },
     "execution_count": 12,
     "metadata": {},
     "output_type": "execute_result"
    }
   ],
   "source": [
    "art.iloc[max_row]"
   ]
  },
  {
   "cell_type": "markdown",
   "metadata": {},
   "source": [
    "What do you notice?  Is the artwork actually 91.4m high?\n",
    "\n",
    "In this case, the large height is a error.  To be able to plot a more informative histogram, we are going to remove all artwork with heights that are outliers.  We will do this by filtering the data with Python.\n",
    "\n",
    "First we will make a new dataframe containing only artworks with heights less than 500cm.  Run the following code.  "
   ]
  },
  {
   "cell_type": "code",
   "execution_count": 13,
   "metadata": {},
   "outputs": [
    {
     "data": {
      "text/plain": [
       "0          True\n",
       "1          True\n",
       "2          True\n",
       "3          True\n",
       "4          True\n",
       "5          True\n",
       "6          True\n",
       "7          True\n",
       "8          True\n",
       "9          True\n",
       "10         True\n",
       "11         True\n",
       "12         True\n",
       "13         True\n",
       "14         True\n",
       "15         True\n",
       "16         True\n",
       "17         True\n",
       "18         True\n",
       "19         True\n",
       "20         True\n",
       "21         True\n",
       "22         True\n",
       "23         True\n",
       "24         True\n",
       "25         True\n",
       "26         True\n",
       "27         True\n",
       "28         True\n",
       "29         True\n",
       "          ...  \n",
       "138344     True\n",
       "138345     True\n",
       "138346     True\n",
       "138347     True\n",
       "138348    False\n",
       "138349    False\n",
       "138350     True\n",
       "138351     True\n",
       "138352     True\n",
       "138353     True\n",
       "138354    False\n",
       "138355    False\n",
       "138356    False\n",
       "138357    False\n",
       "138358     True\n",
       "138359    False\n",
       "138360     True\n",
       "138361    False\n",
       "138362    False\n",
       "138363    False\n",
       "138364    False\n",
       "138365    False\n",
       "138366    False\n",
       "138367    False\n",
       "138368     True\n",
       "138369    False\n",
       "138370     True\n",
       "138371     True\n",
       "138372     True\n",
       "138373     True\n",
       "Name: Height (cm), Length: 138374, dtype: bool"
      ]
     },
     "execution_count": 13,
     "metadata": {},
     "output_type": "execute_result"
    }
   ],
   "source": [
    "height_filter = art[\"Height (cm)\"] < 500\n",
    "height_filter"
   ]
  },
  {
   "cell_type": "markdown",
   "metadata": {},
   "source": [
    "What do you think is stored in the variable `height_filter`?\n",
    "\n",
    "We can now create a new dataframe, containing only the rows marked as `True` in `height_filter`.  Type and run the code `new_art = art[height_filter]` below."
   ]
  },
  {
   "cell_type": "code",
   "execution_count": 14,
   "metadata": {
    "collapsed": true
   },
   "outputs": [],
   "source": [
    "new_art = art[height_filter]"
   ]
  },
  {
   "cell_type": "markdown",
   "metadata": {},
   "source": [
    "To test that this worked, plot the histogram of the height column in the new dataframe."
   ]
  },
  {
   "cell_type": "code",
   "execution_count": 15,
   "metadata": {},
   "outputs": [
    {
     "data": {
      "text/plain": [
       "<matplotlib.axes._subplots.AxesSubplot at 0x7f8660d03f28>"
      ]
     },
     "execution_count": 15,
     "metadata": {},
     "output_type": "execute_result"
    },
    {
     "data": {
      "image/png": "[encoded data removed]",
      "text/plain": [
       "<Figure size 432x288 with 1 Axes>"
      ]
     },
     "metadata": {
      "needs_background": "light"
     },
     "output_type": "display_data"
    }
   ],
   "source": [
    "new_art[\"Height (cm)\"].hist()"
   ]
  },
  {
   "cell_type": "markdown",
   "metadata": {},
   "source": [
    "We can compute the mean height of artwork in our filtered dataframe with the code `new_art[\"Height (cm)\"].mean()`.  Try it below."
   ]
  },
  {
   "cell_type": "code",
   "execution_count": 16,
   "metadata": {},
   "outputs": [
    {
     "data": {
      "text/plain": [
       "37.264019222103435"
      ]
     },
     "execution_count": 16,
     "metadata": {},
     "output_type": "execute_result"
    }
   ],
   "source": [
    "new_art[\"Height (cm)\"].mean()"
   ]
  },
  {
   "cell_type": "markdown",
   "metadata": {},
   "source": [
    "We can compute the median height of the artwork in our filtered dataframe with the code `new_art[\"Height (cm)\"].median()`.  Try it below."
   ]
  },
  {
   "cell_type": "code",
   "execution_count": 17,
   "metadata": {},
   "outputs": [
    {
     "data": {
      "text/plain": [
       "27.9400558801"
      ]
     },
     "execution_count": 17,
     "metadata": {},
     "output_type": "execute_result"
    }
   ],
   "source": [
    "new_art[\"Height (cm)\"].median()"
   ]
  },
  {
   "cell_type": "markdown",
   "metadata": {},
   "source": [
    "Now compute the mean and median heights of artwork in the original dataframe."
   ]
  },
  {
   "cell_type": "code",
   "execution_count": null,
   "metadata": {
    "collapsed": true
   },
   "outputs": [],
   "source": []
  },
  {
   "cell_type": "code",
   "execution_count": null,
   "metadata": {
    "collapsed": true
   },
   "outputs": [],
   "source": []
  },
  {
   "cell_type": "markdown",
   "metadata": {},
   "source": [
    "Did the mean or median change?  Why/why not?\n",
    "\n",
    "#### Challenges:\n",
    "- Plot a histogram of the width of the artworks.  Filter it and compare the mean and median of the filtered and unfiltered data.\n",
    "- Compute the mean and median green taxi trip distances.\n",
    "- Compute the mode of the green taxi trip payment type."
   ]
  }
 ],
 "metadata": {
  "kernelspec": {
   "display_name": "Python 3",
   "language": "python",
   "name": "python3"
  },
  "language_info": {
   "codemirror_mode": {
    "name": "ipython",
    "version": 3
   },
   "file_extension": ".py",
   "mimetype": "text/x-python",
   "name": "python",
   "nbconvert_exporter": "python",
   "pygments_lexer": "ipython3",
   "version": "3.6.3"
  }
 },
 "nbformat": 4,
 "nbformat_minor": 2
}

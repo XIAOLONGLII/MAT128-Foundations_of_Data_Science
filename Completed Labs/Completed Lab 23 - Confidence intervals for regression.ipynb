{
 "cells": [
  {
   "cell_type": "markdown",
   "metadata": {},
   "source": [
    "# Lab 23 - Confidence intervals for regression\n",
    "\n",
    "We will use newborn data set from Lab 16, [babies.data](https://www.stat.berkeley.edu/~statlabs/data/babies.data).  This data is from a sample of newborns born between 1960 and 1967 in California in a major hospital system.\n",
    "\n",
    "The columns are:<br>\n",
    "bwt: Birth weight in ounces (999 unknown)<br>\n",
    "gestation: Length of pregnancy in days (999 unknown)<br>\n",
    "parity: 0= first born, 9=unknown<br>\n",
    "age: mother's age in years (99 unknown)<br>\n",
    "height: mother's height in inches (99 unknown)<br>\n",
    "weight: Mother's prepregnancy weight in pounds (999 unknown)<br>\n",
    "smoke: Smoking status of mother: 0=not now, 1=yes now, 9=unknown\n",
    "\n",
    "We will look at the relationship between birth weight and number of gestational days, and the relationship between maternal age and birth weight.\n",
    "\n",
    "First, let's import the necessary libraries."
   ]
  },
  {
   "cell_type": "code",
   "execution_count": 1,
   "metadata": {
    "collapsed": true
   },
   "outputs": [],
   "source": [
    "import numpy as np\n",
    "import matplotlib.pyplot as plt\n",
    "import pandas as pd\n",
    "import seaborn as sns\n",
    "import statsmodels.formula.api as smf\n",
    "%matplotlib inline"
   ]
  },
  {
   "cell_type": "markdown",
   "metadata": {},
   "source": [
    "### Loading and cleaning the data\n",
    "\n",
    "Read the CSV file into the dataframe `babies`.  As in Lab 16, we need to add the parameter `sep = \"\\s+\"` since the columns are separated by whitespaces instead of commas."
   ]
  },
  {
   "cell_type": "code",
   "execution_count": 7,
   "metadata": {
    "collapsed": true
   },
   "outputs": [],
   "source": [
    "babies = pd.read_csv(\"../Data/babies.data\",sep = \"\\s+\")"
   ]
  },
  {
   "cell_type": "markdown",
   "metadata": {},
   "source": [
    "Display your `babies` dataframe below to check it was created properly."
   ]
  },
  {
   "cell_type": "code",
   "execution_count": 8,
   "metadata": {},
   "outputs": [
    {
     "data": {
      "text/html": [
       "<div>\n",
       "<style scoped>\n",
       "    .dataframe tbody tr th:only-of-type {\n",
       "        vertical-align: middle;\n",
       "    }\n",
       "\n",
       "    .dataframe tbody tr th {\n",
       "        vertical-align: top;\n",
       "    }\n",
       "\n",
       "    .dataframe thead th {\n",
       "        text-align: right;\n",
       "    }\n",
       "</style>\n",
       "<table border=\"1\" class=\"dataframe\">\n",
       "  <thead>\n",
       "    <tr style=\"text-align: right;\">\n",
       "      <th></th>\n",
       "      <th>bwt</th>\n",
       "      <th>gestation</th>\n",
       "      <th>parity</th>\n",
       "      <th>age</th>\n",
       "      <th>height</th>\n",
       "      <th>weight</th>\n",
       "      <th>smoke</th>\n",
       "    </tr>\n",
       "  </thead>\n",
       "  <tbody>\n",
       "    <tr>\n",
       "      <th>0</th>\n",
       "      <td>120</td>\n",
       "      <td>284</td>\n",
       "      <td>0</td>\n",
       "      <td>27</td>\n",
       "      <td>62</td>\n",
       "      <td>100</td>\n",
       "      <td>0</td>\n",
       "    </tr>\n",
       "    <tr>\n",
       "      <th>1</th>\n",
       "      <td>113</td>\n",
       "      <td>282</td>\n",
       "      <td>0</td>\n",
       "      <td>33</td>\n",
       "      <td>64</td>\n",
       "      <td>135</td>\n",
       "      <td>0</td>\n",
       "    </tr>\n",
       "    <tr>\n",
       "      <th>2</th>\n",
       "      <td>128</td>\n",
       "      <td>279</td>\n",
       "      <td>0</td>\n",
       "      <td>28</td>\n",
       "      <td>64</td>\n",
       "      <td>115</td>\n",
       "      <td>1</td>\n",
       "    </tr>\n",
       "    <tr>\n",
       "      <th>3</th>\n",
       "      <td>123</td>\n",
       "      <td>999</td>\n",
       "      <td>0</td>\n",
       "      <td>36</td>\n",
       "      <td>69</td>\n",
       "      <td>190</td>\n",
       "      <td>0</td>\n",
       "    </tr>\n",
       "    <tr>\n",
       "      <th>4</th>\n",
       "      <td>108</td>\n",
       "      <td>282</td>\n",
       "      <td>0</td>\n",
       "      <td>23</td>\n",
       "      <td>67</td>\n",
       "      <td>125</td>\n",
       "      <td>1</td>\n",
       "    </tr>\n",
       "  </tbody>\n",
       "</table>\n",
       "</div>"
      ],
      "text/plain": [
       "   bwt  gestation  parity  age  height  weight  smoke\n",
       "0  120        284       0   27      62     100      0\n",
       "1  113        282       0   33      64     135      0\n",
       "2  128        279       0   28      64     115      1\n",
       "3  123        999       0   36      69     190      0\n",
       "4  108        282       0   23      67     125      1"
      ]
     },
     "execution_count": 8,
     "metadata": {},
     "output_type": "execute_result"
    }
   ],
   "source": [
    "babies.head()"
   ]
  },
  {
   "cell_type": "markdown",
   "metadata": {},
   "source": [
    "Plot a histogram of the `gestation` column."
   ]
  },
  {
   "cell_type": "code",
   "execution_count": 9,
   "metadata": {},
   "outputs": [
    {
     "data": {
      "text/plain": [
       "<matplotlib.axes._subplots.AxesSubplot at 0x10fbbc358>"
      ]
     },
     "execution_count": 9,
     "metadata": {},
     "output_type": "execute_result"
    },
    {
     "data": {
      "image/png": "[encoded data removed]",
      "text/plain": [
       "<matplotlib.figure.Figure at 0x10b9473c8>"
      ]
     },
     "metadata": {},
     "output_type": "display_data"
    }
   ],
   "source": [
    "babies[\"gestation\"].hist()"
   ]
  },
  {
   "cell_type": "markdown",
   "metadata": {},
   "source": [
    "What do you notice about the histogram?  What's the explanation?  (Hint: Read the description of the gestation column above.)\n",
    "\n",
    "If the number of gestational days is missing, 999 is used instead.  We need to read in the dataset again, this time telling `read_csv()` that 999 represents an NaN value.  Can you figure out how to do this?  See Labs 18 and 22 where we specified a different NaN value for the Starbucks data."
   ]
  },
  {
   "cell_type": "code",
   "execution_count": 11,
   "metadata": {
    "collapsed": true
   },
   "outputs": [],
   "source": [
    "babies = pd.read_csv(\"../Data/babies.data\",sep = \"\\s+\",  na_values = \"999\")"
   ]
  },
  {
   "cell_type": "markdown",
   "metadata": {},
   "source": [
    "<details> <summary>Hint:</summary>\n",
    "Add the parameter <code>na_values = \"999\"</code>\n",
    "</details>\n",
    "\n",
    "\n",
    "Drop any row with an NaN value (also done in Lab 18 and 22):"
   ]
  },
  {
   "cell_type": "code",
   "execution_count": 12,
   "metadata": {
    "collapsed": true
   },
   "outputs": [],
   "source": [
    "babies = babies.dropna(axis = 0)"
   ]
  },
  {
   "cell_type": "markdown",
   "metadata": {},
   "source": [
    "<details> <summary>Pattern:</summary>\n",
    "<code>df = df.dropna(axis = 0)</code>\n",
    "</details>\n",
    "\n",
    "Let's check the unknown values have been successfully dropped by plotting a histogram of the weight or gestation column again."
   ]
  },
  {
   "cell_type": "code",
   "execution_count": 13,
   "metadata": {},
   "outputs": [
    {
     "data": {
      "text/plain": [
       "<matplotlib.axes._subplots.AxesSubplot at 0x109de2a90>"
      ]
     },
     "execution_count": 13,
     "metadata": {},
     "output_type": "execute_result"
    },
    {
     "data": {
      "image/png": "[encoded data removed]",
      "text/plain": [
       "<matplotlib.figure.Figure at 0x109dbd7f0>"
      ]
     },
     "metadata": {},
     "output_type": "display_data"
    }
   ],
   "source": [
    "babies[\"gestation\"].hist()"
   ]
  },
  {
   "cell_type": "markdown",
   "metadata": {},
   "source": [
    "### Relationship between birth weight and gestational days.\n",
    "\n",
    "In Lab 16 we looked at the relationship between birth weight and the number of gestational days (how long the baby was in the womb).  We will look at this relationship again using regression.\n",
    "\n",
    "First, we'll visualize the data.  Use the Seaborn library (Lab 21) to plot a scatter plot with the regression line, where gestational days are on the x axis and birth weight (`bwt`) is on the y axis."
   ]
  },
  {
   "cell_type": "code",
   "execution_count": 14,
   "metadata": {
    "scrolled": true
   },
   "outputs": [
    {
     "data": {
      "text/plain": [
       "<matplotlib.axes._subplots.AxesSubplot at 0x114d8be80>"
      ]
     },
     "execution_count": 14,
     "metadata": {},
     "output_type": "execute_result"
    },
    {
     "data": {
      "image/png": "[encoded data removed]",
      "text/plain": [
       "<matplotlib.figure.Figure at 0x114d692e8>"
      ]
     },
     "metadata": {},
     "output_type": "display_data"
    }
   ],
   "source": [
    "sns.regplot(x = \"gestation\", y = \"bwt\", data = babies)"
   ]
  },
  {
   "cell_type": "markdown",
   "metadata": {},
   "source": [
    "<details> <summary>Pattern:</summary>\n",
    "<code>sns.regplot(x = \"x_axis_column_name\", y = \"y_axis_column_name\", data = df)</code>\n",
    "</details>\n",
    "\n",
    "Looking at the graph, do you think there is a linear relationship between the number of gestation days and the birth weight?\n",
    "\n",
    "There appears to be a weak linear relationship between the gestation days and birth weight.  Let's compute the correlation matrix to get the correlation between the two variables:"
   ]
  },
  {
   "cell_type": "code",
   "execution_count": 15,
   "metadata": {},
   "outputs": [
    {
     "data": {
      "text/html": [
       "<div>\n",
       "<style scoped>\n",
       "    .dataframe tbody tr th:only-of-type {\n",
       "        vertical-align: middle;\n",
       "    }\n",
       "\n",
       "    .dataframe tbody tr th {\n",
       "        vertical-align: top;\n",
       "    }\n",
       "\n",
       "    .dataframe thead th {\n",
       "        text-align: right;\n",
       "    }\n",
       "</style>\n",
       "<table border=\"1\" class=\"dataframe\">\n",
       "  <thead>\n",
       "    <tr style=\"text-align: right;\">\n",
       "      <th></th>\n",
       "      <th>bwt</th>\n",
       "      <th>gestation</th>\n",
       "      <th>parity</th>\n",
       "      <th>age</th>\n",
       "      <th>height</th>\n",
       "      <th>weight</th>\n",
       "      <th>smoke</th>\n",
       "    </tr>\n",
       "  </thead>\n",
       "  <tbody>\n",
       "    <tr>\n",
       "      <th>bwt</th>\n",
       "      <td>1.000000</td>\n",
       "      <td>0.408403</td>\n",
       "      <td>-0.047546</td>\n",
       "      <td>0.027666</td>\n",
       "      <td>0.182727</td>\n",
       "      <td>0.154234</td>\n",
       "      <td>-0.096390</td>\n",
       "    </tr>\n",
       "    <tr>\n",
       "      <th>gestation</th>\n",
       "      <td>0.408403</td>\n",
       "      <td>1.000000</td>\n",
       "      <td>0.079967</td>\n",
       "      <td>-0.052215</td>\n",
       "      <td>0.047798</td>\n",
       "      <td>0.022366</td>\n",
       "      <td>-0.016060</td>\n",
       "    </tr>\n",
       "    <tr>\n",
       "      <th>parity</th>\n",
       "      <td>-0.047546</td>\n",
       "      <td>0.079967</td>\n",
       "      <td>1.000000</td>\n",
       "      <td>-0.336763</td>\n",
       "      <td>0.040033</td>\n",
       "      <td>-0.097425</td>\n",
       "      <td>-0.053079</td>\n",
       "    </tr>\n",
       "    <tr>\n",
       "      <th>age</th>\n",
       "      <td>0.027666</td>\n",
       "      <td>-0.052215</td>\n",
       "      <td>-0.336763</td>\n",
       "      <td>1.000000</td>\n",
       "      <td>-0.005642</td>\n",
       "      <td>0.143270</td>\n",
       "      <td>0.008675</td>\n",
       "    </tr>\n",
       "    <tr>\n",
       "      <th>height</th>\n",
       "      <td>0.182727</td>\n",
       "      <td>0.047798</td>\n",
       "      <td>0.040033</td>\n",
       "      <td>-0.005642</td>\n",
       "      <td>1.000000</td>\n",
       "      <td>0.355296</td>\n",
       "      <td>0.019958</td>\n",
       "    </tr>\n",
       "    <tr>\n",
       "      <th>weight</th>\n",
       "      <td>0.154234</td>\n",
       "      <td>0.022366</td>\n",
       "      <td>-0.097425</td>\n",
       "      <td>0.143270</td>\n",
       "      <td>0.355296</td>\n",
       "      <td>1.000000</td>\n",
       "      <td>0.008555</td>\n",
       "    </tr>\n",
       "    <tr>\n",
       "      <th>smoke</th>\n",
       "      <td>-0.096390</td>\n",
       "      <td>-0.016060</td>\n",
       "      <td>-0.053079</td>\n",
       "      <td>0.008675</td>\n",
       "      <td>0.019958</td>\n",
       "      <td>0.008555</td>\n",
       "      <td>1.000000</td>\n",
       "    </tr>\n",
       "  </tbody>\n",
       "</table>\n",
       "</div>"
      ],
      "text/plain": [
       "                bwt  gestation    parity       age    height    weight  \\\n",
       "bwt        1.000000   0.408403 -0.047546  0.027666  0.182727  0.154234   \n",
       "gestation  0.408403   1.000000  0.079967 -0.052215  0.047798  0.022366   \n",
       "parity    -0.047546   0.079967  1.000000 -0.336763  0.040033 -0.097425   \n",
       "age        0.027666  -0.052215 -0.336763  1.000000 -0.005642  0.143270   \n",
       "height     0.182727   0.047798  0.040033 -0.005642  1.000000  0.355296   \n",
       "weight     0.154234   0.022366 -0.097425  0.143270  0.355296  1.000000   \n",
       "smoke     -0.096390  -0.016060 -0.053079  0.008675  0.019958  0.008555   \n",
       "\n",
       "              smoke  \n",
       "bwt       -0.096390  \n",
       "gestation -0.016060  \n",
       "parity    -0.053079  \n",
       "age        0.008675  \n",
       "height     0.019958  \n",
       "weight     0.008555  \n",
       "smoke      1.000000  "
      ]
     },
     "execution_count": 15,
     "metadata": {},
     "output_type": "execute_result"
    }
   ],
   "source": [
    "babies.corr()"
   ]
  },
  {
   "cell_type": "markdown",
   "metadata": {},
   "source": [
    "<details> <summary>Pattern:</summary>\n",
    "<code>df.corr()</code>\n",
    "</details>\n",
    "\n",
    "What's the correlation between gestational days and birth weight?  Is it high, low, or in the middle?\n",
    "\n",
    "Next let's calculate this slope by computing the linear model, and then displaying the model summary:"
   ]
  },
  {
   "cell_type": "code",
   "execution_count": 16,
   "metadata": {},
   "outputs": [
    {
     "data": {
      "text/html": [
       "<table class=\"simpletable\">\n",
       "<caption>OLS Regression Results</caption>\n",
       "<tr>\n",
       "  <th>Dep. Variable:</th>           <td>bwt</td>       <th>  R-squared:         </th> <td>   0.167</td> \n",
       "</tr>\n",
       "<tr>\n",
       "  <th>Model:</th>                   <td>OLS</td>       <th>  Adj. R-squared:    </th> <td>   0.166</td> \n",
       "</tr>\n",
       "<tr>\n",
       "  <th>Method:</th>             <td>Least Squares</td>  <th>  F-statistic:       </th> <td>   237.4</td> \n",
       "</tr>\n",
       "<tr>\n",
       "  <th>Date:</th>             <td>Thu, 18 Apr 2019</td> <th>  Prob (F-statistic):</th> <td>5.73e-49</td> \n",
       "</tr>\n",
       "<tr>\n",
       "  <th>Time:</th>                 <td>15:13:42</td>     <th>  Log-Likelihood:    </th> <td> -5034.3</td> \n",
       "</tr>\n",
       "<tr>\n",
       "  <th>No. Observations:</th>      <td>  1188</td>      <th>  AIC:               </th> <td>1.007e+04</td>\n",
       "</tr>\n",
       "<tr>\n",
       "  <th>Df Residuals:</th>          <td>  1186</td>      <th>  BIC:               </th> <td>1.008e+04</td>\n",
       "</tr>\n",
       "<tr>\n",
       "  <th>Df Model:</th>              <td>     1</td>      <th>                     </th>     <td> </td>    \n",
       "</tr>\n",
       "<tr>\n",
       "  <th>Covariance Type:</th>      <td>nonrobust</td>    <th>                     </th>     <td> </td>    \n",
       "</tr>\n",
       "</table>\n",
       "<table class=\"simpletable\">\n",
       "<tr>\n",
       "      <td></td>         <th>coef</th>     <th>std err</th>      <th>t</th>      <th>P>|t|</th>  <th>[0.025</th>    <th>0.975]</th>  \n",
       "</tr>\n",
       "<tr>\n",
       "  <th>Intercept</th> <td>  -11.6482</td> <td>    8.529</td> <td>   -1.366</td> <td> 0.172</td> <td>  -28.381</td> <td>    5.085</td>\n",
       "</tr>\n",
       "<tr>\n",
       "  <th>gestation</th> <td>    0.4701</td> <td>    0.031</td> <td>   15.408</td> <td> 0.000</td> <td>    0.410</td> <td>    0.530</td>\n",
       "</tr>\n",
       "</table>\n",
       "<table class=\"simpletable\">\n",
       "<tr>\n",
       "  <th>Omnibus:</th>       <td> 3.914</td> <th>  Durbin-Watson:     </th> <td>   2.026</td>\n",
       "</tr>\n",
       "<tr>\n",
       "  <th>Prob(Omnibus):</th> <td> 0.141</td> <th>  Jarque-Bera (JB):  </th> <td>   3.813</td>\n",
       "</tr>\n",
       "<tr>\n",
       "  <th>Skew:</th>          <td> 0.116</td> <th>  Prob(JB):          </th> <td>   0.149</td>\n",
       "</tr>\n",
       "<tr>\n",
       "  <th>Kurtosis:</th>      <td> 3.154</td> <th>  Cond. No.          </th> <td>4.90e+03</td>\n",
       "</tr>\n",
       "</table><br/><br/>Warnings:<br/>[1] Standard Errors assume that the covariance matrix of the errors is correctly specified.<br/>[2] The condition number is large, 4.9e+03. This might indicate that there are<br/>strong multicollinearity or other numerical problems."
      ],
      "text/plain": [
       "<class 'statsmodels.iolib.summary.Summary'>\n",
       "\"\"\"\n",
       "                            OLS Regression Results                            \n",
       "==============================================================================\n",
       "Dep. Variable:                    bwt   R-squared:                       0.167\n",
       "Model:                            OLS   Adj. R-squared:                  0.166\n",
       "Method:                 Least Squares   F-statistic:                     237.4\n",
       "Date:                Thu, 18 Apr 2019   Prob (F-statistic):           5.73e-49\n",
       "Time:                        15:13:42   Log-Likelihood:                -5034.3\n",
       "No. Observations:                1188   AIC:                         1.007e+04\n",
       "Df Residuals:                    1186   BIC:                         1.008e+04\n",
       "Df Model:                           1                                         \n",
       "Covariance Type:            nonrobust                                         \n",
       "==============================================================================\n",
       "                 coef    std err          t      P>|t|      [0.025      0.975]\n",
       "------------------------------------------------------------------------------\n",
       "Intercept    -11.6482      8.529     -1.366      0.172     -28.381       5.085\n",
       "gestation      0.4701      0.031     15.408      0.000       0.410       0.530\n",
       "==============================================================================\n",
       "Omnibus:                        3.914   Durbin-Watson:                   2.026\n",
       "Prob(Omnibus):                  0.141   Jarque-Bera (JB):                3.813\n",
       "Skew:                           0.116   Prob(JB):                        0.149\n",
       "Kurtosis:                       3.154   Cond. No.                     4.90e+03\n",
       "==============================================================================\n",
       "\n",
       "Warnings:\n",
       "[1] Standard Errors assume that the covariance matrix of the errors is correctly specified.\n",
       "[2] The condition number is large, 4.9e+03. This might indicate that there are\n",
       "strong multicollinearity or other numerical problems.\n",
       "\"\"\""
      ]
     },
     "execution_count": 16,
     "metadata": {},
     "output_type": "execute_result"
    }
   ],
   "source": [
    "lm = smf.ols(formula = \"bwt ~ gestation\", data = babies).fit()\n",
    "lm.summary()"
   ]
  },
  {
   "cell_type": "markdown",
   "metadata": {},
   "source": [
    "<details> <summary>Pattern:</summary>\n",
    "<code>linear_model_variable = smf.ols(formula = \"dependent_var ~ independent_var\", data = df).fit()\n",
    "linear_model_variable.summary()</code>\n",
    "</details>\n",
    "\n",
    "What's the slope of the regression line?\n",
    "\n",
    "Remember that this relationship is only based on a sample of data.  A different sample would give a different regression line and slope.  To understand how much the slope could change depending on the sample, we will compute the 95% confidence interval for the slope.  \n",
    "\n",
    "First, we will create a function for computing the regression and extracting the slope from it:"
   ]
  },
  {
   "cell_type": "code",
   "execution_count": 17,
   "metadata": {
    "collapsed": true
   },
   "outputs": [],
   "source": [
    "# df is the name of the dataframe\n",
    "# x is the name of the column for the independent variable\n",
    "# y is the name of the column for the dependent variable\n",
    "def slope(df, x, y):\n",
    "    formula_string = y + \" ~ \" + x    # create a string containing the formula in advance\n",
    "    lm = smf.ols(formula = formula_string, data = df).fit()\n",
    "    return lm.params[1]"
   ]
  },
  {
   "cell_type": "markdown",
   "metadata": {},
   "source": [
    "Let's try calling (running) this function on our data:"
   ]
  },
  {
   "cell_type": "code",
   "execution_count": 18,
   "metadata": {},
   "outputs": [
    {
     "data": {
      "text/plain": [
       "0.47005618555942874"
      ]
     },
     "execution_count": 18,
     "metadata": {},
     "output_type": "execute_result"
    }
   ],
   "source": [
    "slope(babies,\"gestation\",\"bwt\")"
   ]
  },
  {
   "cell_type": "markdown",
   "metadata": {},
   "source": [
    "Was the slope the same as your previous computation?\n",
    "\n",
    "To find the 95% confidence interval, we will:\n",
    "- create an empty list to store the slopes\n",
    "- take 1000 bootstrap samples the same size as the original data\n",
    "- for each sample, compute the slope of the regression line using our function and save it in our list\n",
    "\n",
    "The pseudo-code is:\n",
    "<code>\n",
    "slopes = []\n",
    "loop 1000 times:\n",
    "    take a bootstrap sample (take a sample with replacement the same size as the original data)\n",
    "    compute the slope of the regression line of the sample\n",
    "    add the sample to `slopes`\n",
    "</code>\n",
    "\n",
    "Try writing the actual code below:"
   ]
  },
  {
   "cell_type": "code",
   "execution_count": 19,
   "metadata": {
    "collapsed": true
   },
   "outputs": [],
   "source": [
    "slopes = []\n",
    "for i in range(1000):\n",
    "    sample = babies.sample(1188,replace = True)\n",
    "    sample_slope = slope(sample,\"gestation\",\"bwt\")\n",
    "    slopes.append(sample_slope)"
   ]
  },
  {
   "cell_type": "markdown",
   "metadata": {},
   "source": [
    "<details><summary>Answer:</summary>\n",
    "<code>slopes = []\n",
    "for i in range(1000):\n",
    "    sample = babies.sample(1188,replace = True)\n",
    "    sample_slope = slope(sample,\"gestation\",\"bwt\")\n",
    "    slopes.append(sample_slope)</code>\n",
    "</details>\n",
    "\n",
    "Plot the histogram of the slopes of the samples:"
   ]
  },
  {
   "cell_type": "code",
   "execution_count": 20,
   "metadata": {},
   "outputs": [
    {
     "data": {
      "text/plain": [
       "<matplotlib.axes._subplots.AxesSubplot at 0x115a5b940>"
      ]
     },
     "execution_count": 20,
     "metadata": {},
     "output_type": "execute_result"
    },
    {
     "data": {
      "image/png": "[encoded data removed]",
      "text/plain": [
       "<matplotlib.figure.Figure at 0x115a7bba8>"
      ]
     },
     "metadata": {},
     "output_type": "display_data"
    }
   ],
   "source": [
    "pd.Series(slopes).hist()"
   ]
  },
  {
   "cell_type": "markdown",
   "metadata": {},
   "source": [
    "What is the mean of the slopes?  How does this compare to the slope of the actual data?\n",
    "\n",
    "Were any of the sample slopes 0? Does this suggest a different sample of the data could have slope 0?\n",
    "\n",
    "Finally, let's compute the 95% confidence interval by computing the 0.025 quantile (2.5 percentile) and 0.975 quantile (97.5 percentile).  We can compute the 0.025 quantile with the code `pd.Series(slopes).quantile(0.025)`"
   ]
  },
  {
   "cell_type": "code",
   "execution_count": 21,
   "metadata": {},
   "outputs": [
    {
     "data": {
      "text/plain": [
       "0.3861745509844029"
      ]
     },
     "execution_count": 21,
     "metadata": {},
     "output_type": "execute_result"
    }
   ],
   "source": [
    "pd.Series(slopes).quantile(0.025)"
   ]
  },
  {
   "cell_type": "code",
   "execution_count": 22,
   "metadata": {},
   "outputs": [
    {
     "data": {
      "text/plain": [
       "0.5564799101568054"
      ]
     },
     "execution_count": 22,
     "metadata": {},
     "output_type": "execute_result"
    }
   ],
   "source": [
    "pd.Series(slopes).quantile(0.975)"
   ]
  },
  {
   "cell_type": "markdown",
   "metadata": {},
   "source": [
    "What's your 95% confidence interval?\n",
    "\n",
    "It should be close to (0.39,0.56).\n",
    "\n",
    "### Maternal Age and Birth Weight\n",
    "\n",
    "Let's look at whether there is a relationship between maternal age and birth weight.  That is, can maternal age in any way predict the birth weight?\n",
    "\n",
    "Plot a histogram of the maternal ages:"
   ]
  },
  {
   "cell_type": "code",
   "execution_count": 23,
   "metadata": {},
   "outputs": [
    {
     "data": {
      "text/plain": [
       "<matplotlib.axes._subplots.AxesSubplot at 0x115a7b080>"
      ]
     },
     "execution_count": 23,
     "metadata": {},
     "output_type": "execute_result"
    },
    {
     "data": {
      "image/png": "[encoded data removed]",
      "text/plain": [
       "<matplotlib.figure.Figure at 0x114e9b908>"
      ]
     },
     "metadata": {},
     "output_type": "display_data"
    }
   ],
   "source": [
    "babies[\"age\"].hist()"
   ]
  },
  {
   "cell_type": "markdown",
   "metadata": {},
   "source": [
    "What do you notice about the histogram?  Why do you think this is the case?  (Hint: look at the descriptions of the columns at the top of the lab)\n",
    "\n",
    "No, there wasn't a medical miracle of a 99 year old mother giving birth!  99 is used in the maternal age column to indicate the age is unknown.  We should remove the row with the missing age from our dataset.  However, we can't add 99 to the list of missing values, because a birth weight could be 99oz (= 6.2 lbs).  Therefore, we need to use the following code, which tells Pandas that there is a different missing values for each column."
   ]
  },
  {
   "cell_type": "code",
   "execution_count": 24,
   "metadata": {
    "collapsed": true
   },
   "outputs": [],
   "source": [
    "babies = pd.read_csv(\"../Data/babies.data\",sep = \"\\s+\",  na_values = {\"gestation\":\"999\",\"age\":\"99\"})\n",
    "babies = babies.dropna(axis = 0)"
   ]
  },
  {
   "cell_type": "markdown",
   "metadata": {},
   "source": [
    "Try plotting a histogram of the maternal ages again.  Did we remove the outlier?"
   ]
  },
  {
   "cell_type": "code",
   "execution_count": 25,
   "metadata": {},
   "outputs": [
    {
     "data": {
      "text/plain": [
       "<matplotlib.axes._subplots.AxesSubplot at 0x115a57c88>"
      ]
     },
     "execution_count": 25,
     "metadata": {},
     "output_type": "execute_result"
    },
    {
     "data": {
      "image/png": "[encoded data removed]",
      "text/plain": [
       "<matplotlib.figure.Figure at 0x109d44cf8>"
      ]
     },
     "metadata": {},
     "output_type": "display_data"
    }
   ],
   "source": [
    "babies[\"age\"].hist()"
   ]
  },
  {
   "cell_type": "markdown",
   "metadata": {},
   "source": [
    "First plot a scatter plot and regression line of maternal age (x) vs. birth weight (y)."
   ]
  },
  {
   "cell_type": "code",
   "execution_count": null,
   "metadata": {
    "collapsed": true
   },
   "outputs": [],
   "source": []
  },
  {
   "cell_type": "markdown",
   "metadata": {},
   "source": [
    "Does the slope look close to 0?  If the slope is 0 it would indicate no relationship.  However, for any particular sample of data, the slope is unlikely to be exactly 0.  Therefore, we want to construct the 95% confidence interval for the slope and check if it contains 0.\n",
    "\n",
    "We will now compute the 95% confidence interval.  \n",
    "\n",
    "First, compute 1000 bootstrap samples, saving the slope of the regression line of each sample."
   ]
  },
  {
   "cell_type": "code",
   "execution_count": null,
   "metadata": {
    "collapsed": true
   },
   "outputs": [],
   "source": []
  },
  {
   "cell_type": "markdown",
   "metadata": {},
   "source": [
    "Plot a histogram of the slopes:"
   ]
  },
  {
   "cell_type": "code",
   "execution_count": null,
   "metadata": {
    "collapsed": true
   },
   "outputs": [],
   "source": []
  },
  {
   "cell_type": "markdown",
   "metadata": {},
   "source": [
    "Does it look like the 95% confidence interval for the slope will contain 0?\n",
    "\n",
    "Let's formally calculate the 95% confidence interval for the slope by computing the 0.025 and 0.975 quantiles:"
   ]
  },
  {
   "cell_type": "code",
   "execution_count": 11,
   "metadata": {
    "collapsed": true
   },
   "outputs": [],
   "source": []
  },
  {
   "cell_type": "code",
   "execution_count": null,
   "metadata": {
    "collapsed": true
   },
   "outputs": [],
   "source": []
  },
  {
   "cell_type": "markdown",
   "metadata": {},
   "source": [
    "What's the 95% confidence interval for the slope?  Does it contain 0?\n",
    "\n",
    "If so, we must conclude that there is not enough evidence to show a relationship between maternal age and birth weight.\n",
    "\n",
    "### Challenges:\n",
    "- Is there a relationship between maternal height and birth weight?  That is, can birth weight in any way be predicted from maternal height?"
   ]
  }
 ],
 "metadata": {
  "kernelspec": {
   "display_name": "Python 3",
   "language": "python",
   "name": "python3"
  },
  "language_info": {
   "codemirror_mode": {
    "name": "ipython",
    "version": 3
   },
   "file_extension": ".py",
   "mimetype": "text/x-python",
   "name": "python",
   "nbconvert_exporter": "python",
   "pygments_lexer": "ipython3",
   "version": "3.6.3"
  }
 },
 "nbformat": 4,
 "nbformat_minor": 2
}

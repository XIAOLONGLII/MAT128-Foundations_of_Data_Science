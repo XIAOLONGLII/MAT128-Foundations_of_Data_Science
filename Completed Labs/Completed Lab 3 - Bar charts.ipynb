{
 "cells": [
  {
   "cell_type": "markdown",
   "metadata": {},
   "source": [
    "## Lab 3 - Bar charts and green taxi trips\n",
    "\n",
    "Green taxis opporate primarily in upper Manhattan and the other four boroughs, and NYC Open Data has a dataset of all green taxi trips taken in 2018.\n",
    "\n",
    "### Getting the data\n",
    "\n",
    "The NYC Open Data datast of all 2018 green taxi trips is here: [https://data.cityofnewyork.us/Transportation/2018-Green-Taxi-Trip-Data/w7fs-fd9i](https://data.cityofnewyork.us/Transportation/2018-Green-Taxi-Trip-Data/w7fs-fd9i)\n",
    "\n",
    "The dataset contains almost 9 million rows, so as in Lab 2, we will filter the data to only be trips from Sept. 3, 2018 to make the dataset smaller.  To do this:\n",
    "- Click on the \"Filter\" button.\n",
    "- On the menu that appear, click on \"Add a New Filter Condition\".\n",
    "- Choose \"lpep_pickup_datetime\" but change the \"is\" to be \"is between\".\n",
    "- Click in the box below and a calendar will pop up. Highlight September 3, 2018.\n",
    "- Click the second box below and a calendar will pop up.  Highlight September 4, 2018.\n",
    "- It will take a few seconds (it's a large file) but the rows on the left will be filtered to be all trips with pickups between Sept. 3 2018 at 12am and Sept. 4 2018 at 12am, or all counts with pickups on Sept. 3.\n",
    "\n",
    "To download the file,\n",
    "- Click on the \"Export\" button.\n",
    "- Under \"Download\", choose \"CSV\".\n",
    "- The download will begin automatically (files are usually stored in \"Downloads\" folder).\n",
    "\n",
    "Upload your CSV file to Jupyter Hub, and open it to see that it has been downloaded correctly.  (You can also do this in Excel or Text Edit before uploading the file.)"
   ]
  },
  {
   "cell_type": "markdown",
   "metadata": {},
   "source": [
    "### Bar Charts\n",
    "\n",
    "Bar charts are used to graph qualitative (categorical) data.  A bar chart visually shows the number of pieces of data in  each category.\n",
    "\n",
    "As in Labs 1 and 2, we need to import the matplotlib and pandas packages and tell Jupyter to display the plots.  Run the code below to do this."
   ]
  },
  {
   "cell_type": "code",
   "execution_count": 1,
   "metadata": {
    "collapsed": true
   },
   "outputs": [],
   "source": [
    "import matplotlib.pyplot as plt\n",
    "import pandas as pd\n",
    "%matplotlib inline"
   ]
  },
  {
   "cell_type": "markdown",
   "metadata": {},
   "source": [
    "Can you write the code to store the data from the CSV file in a dataframe called `taxi`?  Getting the data from a filing is called *reading the file*.  The columns `lpep_pickup_datetime` and `lpep_dropoff_datetime` should be processed as dates."
   ]
  },
  {
   "cell_type": "code",
   "execution_count": 4,
   "metadata": {
    "collapsed": true
   },
   "outputs": [],
   "source": [
    "taxi = pd.read_csv(\"../../data/Sept3_2018_Green_Taxi_Trip_Data.csv\",parse_dates=[\"lpep_pickup_datetime\",\"lpep_dropoff_datetime\"])"
   ]
  },
  {
   "cell_type": "markdown",
   "metadata": {},
   "source": [
    "<details> <summary>Answer:</summary>\n",
    "taxi = pd.read_csv(\"taxi_trip_filename.csv\",parse_dates=[\"lpep_pickup_datetime\",\"lpep_dropoff_datetime\"])\n",
    "</details>"
   ]
  },
  {
   "cell_type": "markdown",
   "metadata": {},
   "source": [
    "Check that the dataframe was created correctly by displaying the first five rows:"
   ]
  },
  {
   "cell_type": "code",
   "execution_count": 5,
   "metadata": {},
   "outputs": [
    {
     "data": {
      "text/html": [
       "<div>\n",
       "<style scoped>\n",
       "    .dataframe tbody tr th:only-of-type {\n",
       "        vertical-align: middle;\n",
       "    }\n",
       "\n",
       "    .dataframe tbody tr th {\n",
       "        vertical-align: top;\n",
       "    }\n",
       "\n",
       "    .dataframe thead th {\n",
       "        text-align: right;\n",
       "    }\n",
       "</style>\n",
       "<table border=\"1\" class=\"dataframe\">\n",
       "  <thead>\n",
       "    <tr style=\"text-align: right;\">\n",
       "      <th></th>\n",
       "      <th>VendorID</th>\n",
       "      <th>lpep_pickup_datetime</th>\n",
       "      <th>lpep_dropoff_datetime</th>\n",
       "      <th>store_and_fwd_flag</th>\n",
       "      <th>RatecodeID</th>\n",
       "      <th>PULocationID</th>\n",
       "      <th>DOLocationID</th>\n",
       "      <th>passenger_count</th>\n",
       "      <th>trip_distance</th>\n",
       "      <th>fare_amount</th>\n",
       "      <th>extra</th>\n",
       "      <th>mta_tax</th>\n",
       "      <th>tip_amount</th>\n",
       "      <th>tolls_amount</th>\n",
       "      <th>ehail_fee</th>\n",
       "      <th>improvement_surcharge</th>\n",
       "      <th>total_amount</th>\n",
       "      <th>payment_type</th>\n",
       "      <th>trip_type</th>\n",
       "    </tr>\n",
       "  </thead>\n",
       "  <tbody>\n",
       "    <tr>\n",
       "      <th>0</th>\n",
       "      <td>2</td>\n",
       "      <td>2018-09-03 00:00:04</td>\n",
       "      <td>2018-09-03 00:25:20</td>\n",
       "      <td>N</td>\n",
       "      <td>1</td>\n",
       "      <td>42</td>\n",
       "      <td>186</td>\n",
       "      <td>2</td>\n",
       "      <td>5.55</td>\n",
       "      <td>21.0</td>\n",
       "      <td>0.5</td>\n",
       "      <td>0.5</td>\n",
       "      <td>4.46</td>\n",
       "      <td>0.0</td>\n",
       "      <td>NaN</td>\n",
       "      <td>0.3</td>\n",
       "      <td>26.76</td>\n",
       "      <td>1</td>\n",
       "      <td>1</td>\n",
       "    </tr>\n",
       "    <tr>\n",
       "      <th>1</th>\n",
       "      <td>2</td>\n",
       "      <td>2018-09-03 00:00:10</td>\n",
       "      <td>2018-09-03 00:05:40</td>\n",
       "      <td>N</td>\n",
       "      <td>1</td>\n",
       "      <td>97</td>\n",
       "      <td>52</td>\n",
       "      <td>2</td>\n",
       "      <td>1.49</td>\n",
       "      <td>7.0</td>\n",
       "      <td>0.5</td>\n",
       "      <td>0.5</td>\n",
       "      <td>2.49</td>\n",
       "      <td>0.0</td>\n",
       "      <td>NaN</td>\n",
       "      <td>0.3</td>\n",
       "      <td>10.79</td>\n",
       "      <td>1</td>\n",
       "      <td>1</td>\n",
       "    </tr>\n",
       "    <tr>\n",
       "      <th>2</th>\n",
       "      <td>2</td>\n",
       "      <td>2018-09-03 00:00:21</td>\n",
       "      <td>2018-09-03 00:23:38</td>\n",
       "      <td>N</td>\n",
       "      <td>1</td>\n",
       "      <td>93</td>\n",
       "      <td>146</td>\n",
       "      <td>1</td>\n",
       "      <td>8.29</td>\n",
       "      <td>26.0</td>\n",
       "      <td>0.5</td>\n",
       "      <td>0.5</td>\n",
       "      <td>0.00</td>\n",
       "      <td>0.0</td>\n",
       "      <td>NaN</td>\n",
       "      <td>0.3</td>\n",
       "      <td>27.30</td>\n",
       "      <td>2</td>\n",
       "      <td>1</td>\n",
       "    </tr>\n",
       "    <tr>\n",
       "      <th>3</th>\n",
       "      <td>2</td>\n",
       "      <td>2018-09-03 00:00:24</td>\n",
       "      <td>2018-09-03 00:23:51</td>\n",
       "      <td>N</td>\n",
       "      <td>1</td>\n",
       "      <td>173</td>\n",
       "      <td>146</td>\n",
       "      <td>1</td>\n",
       "      <td>4.84</td>\n",
       "      <td>19.5</td>\n",
       "      <td>0.5</td>\n",
       "      <td>0.5</td>\n",
       "      <td>3.12</td>\n",
       "      <td>0.0</td>\n",
       "      <td>NaN</td>\n",
       "      <td>0.3</td>\n",
       "      <td>23.92</td>\n",
       "      <td>1</td>\n",
       "      <td>1</td>\n",
       "    </tr>\n",
       "    <tr>\n",
       "      <th>4</th>\n",
       "      <td>2</td>\n",
       "      <td>2018-09-03 00:00:28</td>\n",
       "      <td>2018-09-03 00:11:45</td>\n",
       "      <td>N</td>\n",
       "      <td>1</td>\n",
       "      <td>146</td>\n",
       "      <td>223</td>\n",
       "      <td>1</td>\n",
       "      <td>2.71</td>\n",
       "      <td>11.0</td>\n",
       "      <td>0.5</td>\n",
       "      <td>0.5</td>\n",
       "      <td>2.46</td>\n",
       "      <td>0.0</td>\n",
       "      <td>NaN</td>\n",
       "      <td>0.3</td>\n",
       "      <td>14.76</td>\n",
       "      <td>1</td>\n",
       "      <td>1</td>\n",
       "    </tr>\n",
       "  </tbody>\n",
       "</table>\n",
       "</div>"
      ],
      "text/plain": [
       "   VendorID lpep_pickup_datetime lpep_dropoff_datetime store_and_fwd_flag  \\\n",
       "0         2  2018-09-03 00:00:04   2018-09-03 00:25:20                  N   \n",
       "1         2  2018-09-03 00:00:10   2018-09-03 00:05:40                  N   \n",
       "2         2  2018-09-03 00:00:21   2018-09-03 00:23:38                  N   \n",
       "3         2  2018-09-03 00:00:24   2018-09-03 00:23:51                  N   \n",
       "4         2  2018-09-03 00:00:28   2018-09-03 00:11:45                  N   \n",
       "\n",
       "   RatecodeID  PULocationID  DOLocationID  passenger_count  trip_distance  \\\n",
       "0           1            42           186                2           5.55   \n",
       "1           1            97            52                2           1.49   \n",
       "2           1            93           146                1           8.29   \n",
       "3           1           173           146                1           4.84   \n",
       "4           1           146           223                1           2.71   \n",
       "\n",
       "   fare_amount  extra  mta_tax  tip_amount  tolls_amount  ehail_fee  \\\n",
       "0         21.0    0.5      0.5        4.46           0.0        NaN   \n",
       "1          7.0    0.5      0.5        2.49           0.0        NaN   \n",
       "2         26.0    0.5      0.5        0.00           0.0        NaN   \n",
       "3         19.5    0.5      0.5        3.12           0.0        NaN   \n",
       "4         11.0    0.5      0.5        2.46           0.0        NaN   \n",
       "\n",
       "   improvement_surcharge  total_amount  payment_type  trip_type  \n",
       "0                    0.3         26.76             1          1  \n",
       "1                    0.3         10.79             1          1  \n",
       "2                    0.3         27.30             2          1  \n",
       "3                    0.3         23.92             1          1  \n",
       "4                    0.3         14.76             1          1  "
      ]
     },
     "execution_count": 5,
     "metadata": {},
     "output_type": "execute_result"
    }
   ],
   "source": [
    "taxi.head()"
   ]
  },
  {
   "cell_type": "markdown",
   "metadata": {},
   "source": [
    "<details> <summary>Hint:</summary>\n",
    "    Use the head() function.\n",
    "</details>"
   ]
  },
  {
   "cell_type": "markdown",
   "metadata": {},
   "source": [
    "Here are descriptions of the dataframe columns:  [http://www.nyc.gov/html/tlc/downloads/pdf/data_dictionary_trip_records_green.pdf](http://www.nyc.gov/html/tlc/downloads/pdf/data_dictionary_trip_records_green.pdf)  Which columns are qualitative variables?"
   ]
  },
  {
   "cell_type": "markdown",
   "metadata": {},
   "source": [
    "We will plot the `payment_type` column as a bar chart.  First we need to count how many trips used each payment type.  As in Lab 2, write a piece of code to display only the `payment_type` column."
   ]
  },
  {
   "cell_type": "markdown",
   "metadata": {},
   "source": [
    "<details> <summary>Answer:</summary>\n",
    "taxi[\"payment_type\"]\n",
    "</details>"
   ]
  },
  {
   "cell_type": "markdown",
   "metadata": {},
   "source": [
    "We can count the number of times each different value (ex. 1, 2) appears in the `payment_type` column using the code `taxi[\"payment_type\"].value_counts()`. Type and run this code below."
   ]
  },
  {
   "cell_type": "code",
   "execution_count": null,
   "metadata": {
    "collapsed": true
   },
   "outputs": [],
   "source": []
  },
  {
   "cell_type": "markdown",
   "metadata": {},
   "source": [
    "What was the most used payment type?  Refer to the column information to see which payment type corresponds to which number:  [http://www.nyc.gov/html/tlc/downloads/pdf/data_dictionary_trip_records_green.pdf](http://www.nyc.gov/html/tlc/downloads/pdf/data_dictionary_trip_records_green.pdf) \n",
    "\n",
    "We can visualize these counts with a bar chart.  First we will store the counts of the values in a variable.\n",
    "Type and run the following code: `pay_counts = taxi[\"payment_type\"].value_counts()`"
   ]
  },
  {
   "cell_type": "code",
   "execution_count": null,
   "metadata": {
    "collapsed": true
   },
   "outputs": [],
   "source": []
  },
  {
   "cell_type": "markdown",
   "metadata": {},
   "source": [
    "What happened?  \n",
    "\n",
    "The code didn't display anything, so it looks like nothing happened.  However, we can check that the variable was created by typing its name and running the code:"
   ]
  },
  {
   "cell_type": "code",
   "execution_count": null,
   "metadata": {
    "collapsed": true
   },
   "outputs": [],
   "source": []
  },
  {
   "cell_type": "markdown",
   "metadata": {},
   "source": [
    "Next, we will plot these counts.  Type and run the code `pay_counts.bar(kind = \"bar\")` below."
   ]
  },
  {
   "cell_type": "code",
   "execution_count": null,
   "metadata": {
    "collapsed": true
   },
   "outputs": [],
   "source": []
  },
  {
   "cell_type": "markdown",
   "metadata": {},
   "source": [
    "Why can you barely see the bars for payment types 3, 4, and 5?"
   ]
  },
  {
   "cell_type": "markdown",
   "metadata": {},
   "source": [
    "Try typing and running the following code below `pay_counts.plot(kind = \"barh\")`. It is the same code but with `barh` instead of `bar`.  "
   ]
  },
  {
   "cell_type": "code",
   "execution_count": null,
   "metadata": {
    "collapsed": true
   },
   "outputs": [],
   "source": []
  },
  {
   "cell_type": "markdown",
   "metadata": {},
   "source": [
    "What does the parameter `kind = \"barh\"` do?\n",
    "\n",
    "The `RatecodeID` column holds information about how the trip fare is calculated.  For example, 1 means it is calculated using the standard rate, while 2 means it is the flat rate for JFK to/from Manhattan. See [http://www.nyc.gov/html/tlc/html/passenger/taxicab_rate.shtml](http://www.nyc.gov/html/tlc/html/passenger/taxicab_rate.shtml) for a description of the different rate codes.\n",
    "\n",
    "Can you write code to make a bar chart the number of trips using each `RatecodeID`?"
   ]
  },
  {
   "cell_type": "code",
   "execution_count": null,
   "metadata": {
    "collapsed": true
   },
   "outputs": [],
   "source": []
  },
  {
   "cell_type": "markdown",
   "metadata": {},
   "source": [
    "<details> <summary>Answer:</summary>\n",
    "    code_counts = taxi['RatecodeID'].value_counts()\n",
    "    code_counts.plot.bar()\n",
    "</details>\n",
    "\n",
    "What rate code is used the most?  Does this make sense?  What rate code is used the second most?"
   ]
  },
  {
   "cell_type": "markdown",
   "metadata": {},
   "source": [
    "#### Challenges\n",
    "- Make a bar chart of one of the other categorical columns in `taxi` dataframe.\n",
    "- We can make different types of plots by changing the parameter for the kind of plot.  A list of all of the different kinds of plots is here: [https://pandas.pydata.org/pandas-docs/stable/user_guide/visualization.html#other-plots](https://pandas.pydata.org/pandas-docs/stable/user_guide/visualization.html#other-plots). Can you make a pie plot for the payment type?\n",
    "- Find another dataset on NYC Open Data with qualitative (categorical) data and make a bar chart of that data."
   ]
  }
 ],
 "metadata": {
  "kernelspec": {
   "display_name": "Python 3",
   "language": "python",
   "name": "python3"
  },
  "language_info": {
   "codemirror_mode": {
    "name": "ipython",
    "version": 3
   },
   "file_extension": ".py",
   "mimetype": "text/x-python",
   "name": "python",
   "nbconvert_exporter": "python",
   "pygments_lexer": "ipython3",
   "version": "3.6.3"
  }
 },
 "nbformat": 4,
 "nbformat_minor": 2
}

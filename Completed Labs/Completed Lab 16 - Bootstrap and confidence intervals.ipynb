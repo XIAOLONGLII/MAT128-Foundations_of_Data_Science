{
 "cells": [
  {
   "cell_type": "markdown",
   "metadata": {},
   "source": [
    "# Lab 16 - Bootstrap and confidence intervals\n",
    "\n",
    "For this lab, we will use data from a sample of babies born between 1960 and 1967 in California hospitals.  The data can be downloaded from [here](https://www.stat.berkeley.edu/~statlabs/data/babies.data).  For reference, this file and a description of the columns is on the page [https://www.stat.berkeley.edu/~statlabs/labs.html](https://www.stat.berkeley.edu/~statlabs/labs.html), under the heading \"Maternal Smoking and Infant Health II\".  \n",
    "\n",
    "This lab closely follows [Chapter 13.3 in Computational and Inferential Thinking: The Foundations of Data Science](https://www.inferentialthinking.com/chapters/13/3/Confidence_Intervals.html) by Ani Adhikari and John DeNero.\n",
    "\n",
    "Open the data file in TextEdit (found under Applications in Finder). What do you notice about it?  How are the columns separated? \n",
    "\n",
    "The columns are: \n",
    "\n",
    "- bwt: Birth weight in ounces (999 unknown)\n",
    "- gestation: Length of pregnancy in days (999 unknown)\n",
    "- parity: 0= first born, 9=unknown\n",
    "- age: mother's age in years\n",
    "- height: mother's height in inches (99 unknown)\n",
    "- weight: Mother's prepregnancy weight in pounds (999 unknown)\n",
    "- smoke: Smoking status of mother:  0=not now, 1=yes now, 9=unknown\n",
    "\n",
    "First, let's import the necessary libraries."
   ]
  },
  {
   "cell_type": "raw",
   "metadata": {},
   "source": []
  },
  {
   "cell_type": "code",
   "execution_count": 1,
   "metadata": {
    "collapsed": true
   },
   "outputs": [],
   "source": [
    "import numpy as np\n",
    "import matplotlib.pyplot as plt\n",
    "import pandas as pd\n",
    "%matplotlib inline"
   ]
  },
  {
   "cell_type": "markdown",
   "metadata": {},
   "source": [
    "In the data file, the columns are separated by whitespace (ex. spaces, tabs, etc.) instead of by commas, as usual.  We can still use `pd.read_csv()` but need to add the parameter `sep = \"\\s+\"` to tell the function that the columns are separated one or more whitespaces. \n",
    "\n",
    "Read `babies.data` into the dataframe `babies` using this parameter `sep = \"\\s+\"` and check it worked correctly."
   ]
  },
  {
   "cell_type": "code",
   "execution_count": 3,
   "metadata": {},
   "outputs": [
    {
     "data": {
      "text/html": [
       "<div>\n",
       "<style scoped>\n",
       "    .dataframe tbody tr th:only-of-type {\n",
       "        vertical-align: middle;\n",
       "    }\n",
       "\n",
       "    .dataframe tbody tr th {\n",
       "        vertical-align: top;\n",
       "    }\n",
       "\n",
       "    .dataframe thead th {\n",
       "        text-align: right;\n",
       "    }\n",
       "</style>\n",
       "<table border=\"1\" class=\"dataframe\">\n",
       "  <thead>\n",
       "    <tr style=\"text-align: right;\">\n",
       "      <th></th>\n",
       "      <th>bwt</th>\n",
       "      <th>gestation</th>\n",
       "      <th>parity</th>\n",
       "      <th>age</th>\n",
       "      <th>height</th>\n",
       "      <th>weight</th>\n",
       "      <th>smoke</th>\n",
       "    </tr>\n",
       "  </thead>\n",
       "  <tbody>\n",
       "    <tr>\n",
       "      <th>0</th>\n",
       "      <td>120</td>\n",
       "      <td>284</td>\n",
       "      <td>0</td>\n",
       "      <td>27</td>\n",
       "      <td>62</td>\n",
       "      <td>100</td>\n",
       "      <td>0</td>\n",
       "    </tr>\n",
       "    <tr>\n",
       "      <th>1</th>\n",
       "      <td>113</td>\n",
       "      <td>282</td>\n",
       "      <td>0</td>\n",
       "      <td>33</td>\n",
       "      <td>64</td>\n",
       "      <td>135</td>\n",
       "      <td>0</td>\n",
       "    </tr>\n",
       "    <tr>\n",
       "      <th>2</th>\n",
       "      <td>128</td>\n",
       "      <td>279</td>\n",
       "      <td>0</td>\n",
       "      <td>28</td>\n",
       "      <td>64</td>\n",
       "      <td>115</td>\n",
       "      <td>1</td>\n",
       "    </tr>\n",
       "    <tr>\n",
       "      <th>3</th>\n",
       "      <td>123</td>\n",
       "      <td>999</td>\n",
       "      <td>0</td>\n",
       "      <td>36</td>\n",
       "      <td>69</td>\n",
       "      <td>190</td>\n",
       "      <td>0</td>\n",
       "    </tr>\n",
       "    <tr>\n",
       "      <th>4</th>\n",
       "      <td>108</td>\n",
       "      <td>282</td>\n",
       "      <td>0</td>\n",
       "      <td>23</td>\n",
       "      <td>67</td>\n",
       "      <td>125</td>\n",
       "      <td>1</td>\n",
       "    </tr>\n",
       "  </tbody>\n",
       "</table>\n",
       "</div>"
      ],
      "text/plain": [
       "   bwt  gestation  parity  age  height  weight  smoke\n",
       "0  120        284       0   27      62     100      0\n",
       "1  113        282       0   33      64     135      0\n",
       "2  128        279       0   28      64     115      1\n",
       "3  123        999       0   36      69     190      0\n",
       "4  108        282       0   23      67     125      1"
      ]
     },
     "execution_count": 3,
     "metadata": {},
     "output_type": "execute_result"
    }
   ],
   "source": [
    "babies = pd.read_csv(\"../../data/babies.data\", sep = \"\\s+\")\n",
    "babies.head()"
   ]
  },
  {
   "cell_type": "markdown",
   "metadata": {},
   "source": [
    "How big is the sample?  We will use this later."
   ]
  },
  {
   "cell_type": "code",
   "execution_count": 4,
   "metadata": {},
   "outputs": [
    {
     "data": {
      "text/plain": [
       "1236"
      ]
     },
     "execution_count": 4,
     "metadata": {},
     "output_type": "execute_result"
    }
   ],
   "source": [
    "babies.shape[0]"
   ]
  },
  {
   "cell_type": "markdown",
   "metadata": {},
   "source": [
    "<details> <summary>Pattern:</summary>\n",
    "<code>\n",
    "df.shape[0]</code>\n",
    "</details>\n",
    "\n",
    "## 95% confidence interval for median birth weight to number of gestational days ratio\n",
    "\n",
    "We would like to understand the relation between birth weight, which is given in ounces, and the number of gestational days.  Smaller babies often need more medical care, and it would be helpful to be able to estimate a baby's weight before it is born.\n",
    "\n",
    "We'll look at the ratio of birth weight to number of gestational days.  For the first row, this ratio is:\n",
    "$\\frac{\\text{120 oz}}{\\text{284 days}} \\approx \\text{0.4225 ounces per day}$\n",
    "\n",
    "Let's make a new column of the birth weight to number of gestational days ratio.  Recall from Lab 2 that we can do column-wise math operations."
   ]
  },
  {
   "cell_type": "code",
   "execution_count": 5,
   "metadata": {
    "collapsed": true
   },
   "outputs": [],
   "source": [
    "babies[\"Ratio BW/GD\"] = babies[\"bwt\"]/babies[\"gestation\"]"
   ]
  },
  {
   "cell_type": "markdown",
   "metadata": {},
   "source": [
    "<details> <summary>Answer</summary>\n",
    "<code>\n",
    "babies[\"Ratio BW/GD\"] = babies[\"bwt\"]/babies[\"gestation\"]\n",
    "</code>\n",
    "</details>\n",
    "\n",
    "Plot a histogram of these ratios:"
   ]
  },
  {
   "cell_type": "code",
   "execution_count": 7,
   "metadata": {},
   "outputs": [
    {
     "data": {
      "text/plain": [
       "<matplotlib.axes._subplots.AxesSubplot at 0x111ed6128>"
      ]
     },
     "execution_count": 7,
     "metadata": {},
     "output_type": "execute_result"
    },
    {
     "data": {
      "image/png": "[encoded data removed]",
      "text/plain": [
       "<matplotlib.figure.Figure at 0x111ed3400>"
      ]
     },
     "metadata": {},
     "output_type": "display_data"
    }
   ],
   "source": [
    "babies[\"Ratio BW/GD\"].hist(bins = 20)"
   ]
  },
  {
   "cell_type": "markdown",
   "metadata": {},
   "source": [
    "We see in the histogram that there are some very low and very high ratios, which are *outliers*.  Because of these extreme values we should use a robust measure of center, namely the median.  Compute the median of the ratios."
   ]
  },
  {
   "cell_type": "code",
   "execution_count": 8,
   "metadata": {},
   "outputs": [
    {
     "data": {
      "text/plain": [
       "0.42832681017612523"
      ]
     },
     "execution_count": 8,
     "metadata": {},
     "output_type": "execute_result"
    }
   ],
   "source": [
    "babies[\"Ratio BW/GD\"].median()"
   ]
  },
  {
   "cell_type": "markdown",
   "metadata": {},
   "source": [
    "<details> <summary>Pattern:</summary>\n",
    "<code>\n",
    "df[\"column_name\"].median()\n",
    "</code>\n",
    "</details>\n",
    "\n",
    "This is the median ratio of the sample, but what is the median ratio of the population?  We will estimate a range for it, called the *95% confidence interval*, by creating more samples from the sample we have.  This process of creating more data with the same distribution as our existing data is called *bootstrapping*.\n",
    "\n",
    "Above we found that our sample size is 1236.  Sampling *with replacement* means that we can choose the same row more than once (the row is replaced once we have chosen it). \n",
    "\n",
    "Steps for computing the 95% confidence interval:\n",
    "1. Take a random sample of size 1236 from our sample, by sampling *with replacement*, and compute the median of the new sample.\n",
    "2. Repeat Step 1 until we have computed 5000 sample medians, which we save in a list.\n",
    "3. Compute the middle 95% of these medians.\n",
    "\n",
    "####  Step 1: Take a random sample of size 1236 from our sample, by sampling *with replacement*, and compute the median of the new sample.\n",
    "\n",
    "To re-sample with replacement from our original sample, we still use the `.sample()` function, but add the parameter `replace = True`.\n",
    "\n",
    "Take a sample of size 1236 with replacement from the `babies` dataframe, and store it in the dataframe `bootstrap_sample`."
   ]
  },
  {
   "cell_type": "code",
   "execution_count": 9,
   "metadata": {
    "collapsed": true
   },
   "outputs": [],
   "source": [
    "bootstrap_sample = babies.sample(1236, replace = True)"
   ]
  },
  {
   "cell_type": "markdown",
   "metadata": {},
   "source": [
    "<details> <summary>Answer</summary>\n",
    "<code>\n",
    "bootstrap_sample = babies.sample(1236, replace = True)</code>\n",
    "</details>\n",
    "\n",
    "Check that `bootstrap_sample` was created correctly by displaying it."
   ]
  },
  {
   "cell_type": "code",
   "execution_count": 10,
   "metadata": {},
   "outputs": [
    {
     "data": {
      "text/html": [
       "<div>\n",
       "<style scoped>\n",
       "    .dataframe tbody tr th:only-of-type {\n",
       "        vertical-align: middle;\n",
       "    }\n",
       "\n",
       "    .dataframe tbody tr th {\n",
       "        vertical-align: top;\n",
       "    }\n",
       "\n",
       "    .dataframe thead th {\n",
       "        text-align: right;\n",
       "    }\n",
       "</style>\n",
       "<table border=\"1\" class=\"dataframe\">\n",
       "  <thead>\n",
       "    <tr style=\"text-align: right;\">\n",
       "      <th></th>\n",
       "      <th>bwt</th>\n",
       "      <th>gestation</th>\n",
       "      <th>parity</th>\n",
       "      <th>age</th>\n",
       "      <th>height</th>\n",
       "      <th>weight</th>\n",
       "      <th>smoke</th>\n",
       "      <th>Ratio BW/GD</th>\n",
       "    </tr>\n",
       "  </thead>\n",
       "  <tbody>\n",
       "    <tr>\n",
       "      <th>677</th>\n",
       "      <td>131</td>\n",
       "      <td>274</td>\n",
       "      <td>0</td>\n",
       "      <td>28</td>\n",
       "      <td>64</td>\n",
       "      <td>118</td>\n",
       "      <td>1</td>\n",
       "      <td>0.478102</td>\n",
       "    </tr>\n",
       "    <tr>\n",
       "      <th>956</th>\n",
       "      <td>130</td>\n",
       "      <td>276</td>\n",
       "      <td>0</td>\n",
       "      <td>41</td>\n",
       "      <td>68</td>\n",
       "      <td>130</td>\n",
       "      <td>0</td>\n",
       "      <td>0.471014</td>\n",
       "    </tr>\n",
       "    <tr>\n",
       "      <th>230</th>\n",
       "      <td>111</td>\n",
       "      <td>284</td>\n",
       "      <td>0</td>\n",
       "      <td>22</td>\n",
       "      <td>99</td>\n",
       "      <td>999</td>\n",
       "      <td>1</td>\n",
       "      <td>0.390845</td>\n",
       "    </tr>\n",
       "    <tr>\n",
       "      <th>769</th>\n",
       "      <td>137</td>\n",
       "      <td>318</td>\n",
       "      <td>1</td>\n",
       "      <td>19</td>\n",
       "      <td>64</td>\n",
       "      <td>110</td>\n",
       "      <td>0</td>\n",
       "      <td>0.430818</td>\n",
       "    </tr>\n",
       "    <tr>\n",
       "      <th>300</th>\n",
       "      <td>80</td>\n",
       "      <td>266</td>\n",
       "      <td>1</td>\n",
       "      <td>25</td>\n",
       "      <td>62</td>\n",
       "      <td>125</td>\n",
       "      <td>0</td>\n",
       "      <td>0.300752</td>\n",
       "    </tr>\n",
       "    <tr>\n",
       "      <th>765</th>\n",
       "      <td>91</td>\n",
       "      <td>279</td>\n",
       "      <td>1</td>\n",
       "      <td>27</td>\n",
       "      <td>62</td>\n",
       "      <td>118</td>\n",
       "      <td>0</td>\n",
       "      <td>0.326165</td>\n",
       "    </tr>\n",
       "    <tr>\n",
       "      <th>22</th>\n",
       "      <td>137</td>\n",
       "      <td>287</td>\n",
       "      <td>0</td>\n",
       "      <td>25</td>\n",
       "      <td>66</td>\n",
       "      <td>145</td>\n",
       "      <td>0</td>\n",
       "      <td>0.477352</td>\n",
       "    </tr>\n",
       "    <tr>\n",
       "      <th>119</th>\n",
       "      <td>100</td>\n",
       "      <td>243</td>\n",
       "      <td>0</td>\n",
       "      <td>39</td>\n",
       "      <td>65</td>\n",
       "      <td>170</td>\n",
       "      <td>1</td>\n",
       "      <td>0.411523</td>\n",
       "    </tr>\n",
       "    <tr>\n",
       "      <th>840</th>\n",
       "      <td>98</td>\n",
       "      <td>262</td>\n",
       "      <td>0</td>\n",
       "      <td>22</td>\n",
       "      <td>67</td>\n",
       "      <td>120</td>\n",
       "      <td>0</td>\n",
       "      <td>0.374046</td>\n",
       "    </tr>\n",
       "    <tr>\n",
       "      <th>1077</th>\n",
       "      <td>121</td>\n",
       "      <td>282</td>\n",
       "      <td>0</td>\n",
       "      <td>30</td>\n",
       "      <td>65</td>\n",
       "      <td>122</td>\n",
       "      <td>0</td>\n",
       "      <td>0.429078</td>\n",
       "    </tr>\n",
       "    <tr>\n",
       "      <th>75</th>\n",
       "      <td>127</td>\n",
       "      <td>274</td>\n",
       "      <td>0</td>\n",
       "      <td>21</td>\n",
       "      <td>62</td>\n",
       "      <td>110</td>\n",
       "      <td>0</td>\n",
       "      <td>0.463504</td>\n",
       "    </tr>\n",
       "    <tr>\n",
       "      <th>102</th>\n",
       "      <td>116</td>\n",
       "      <td>286</td>\n",
       "      <td>0</td>\n",
       "      <td>24</td>\n",
       "      <td>61</td>\n",
       "      <td>999</td>\n",
       "      <td>0</td>\n",
       "      <td>0.405594</td>\n",
       "    </tr>\n",
       "    <tr>\n",
       "      <th>168</th>\n",
       "      <td>131</td>\n",
       "      <td>295</td>\n",
       "      <td>0</td>\n",
       "      <td>23</td>\n",
       "      <td>65</td>\n",
       "      <td>123</td>\n",
       "      <td>1</td>\n",
       "      <td>0.444068</td>\n",
       "    </tr>\n",
       "    <tr>\n",
       "      <th>552</th>\n",
       "      <td>124</td>\n",
       "      <td>290</td>\n",
       "      <td>0</td>\n",
       "      <td>26</td>\n",
       "      <td>59</td>\n",
       "      <td>140</td>\n",
       "      <td>0</td>\n",
       "      <td>0.427586</td>\n",
       "    </tr>\n",
       "    <tr>\n",
       "      <th>1057</th>\n",
       "      <td>155</td>\n",
       "      <td>290</td>\n",
       "      <td>0</td>\n",
       "      <td>26</td>\n",
       "      <td>66</td>\n",
       "      <td>129</td>\n",
       "      <td>1</td>\n",
       "      <td>0.534483</td>\n",
       "    </tr>\n",
       "    <tr>\n",
       "      <th>84</th>\n",
       "      <td>138</td>\n",
       "      <td>287</td>\n",
       "      <td>0</td>\n",
       "      <td>30</td>\n",
       "      <td>66</td>\n",
       "      <td>145</td>\n",
       "      <td>0</td>\n",
       "      <td>0.480836</td>\n",
       "    </tr>\n",
       "    <tr>\n",
       "      <th>1172</th>\n",
       "      <td>123</td>\n",
       "      <td>353</td>\n",
       "      <td>0</td>\n",
       "      <td>26</td>\n",
       "      <td>63</td>\n",
       "      <td>115</td>\n",
       "      <td>0</td>\n",
       "      <td>0.348442</td>\n",
       "    </tr>\n",
       "    <tr>\n",
       "      <th>933</th>\n",
       "      <td>112</td>\n",
       "      <td>275</td>\n",
       "      <td>1</td>\n",
       "      <td>21</td>\n",
       "      <td>68</td>\n",
       "      <td>143</td>\n",
       "      <td>1</td>\n",
       "      <td>0.407273</td>\n",
       "    </tr>\n",
       "    <tr>\n",
       "      <th>900</th>\n",
       "      <td>111</td>\n",
       "      <td>281</td>\n",
       "      <td>1</td>\n",
       "      <td>27</td>\n",
       "      <td>64</td>\n",
       "      <td>112</td>\n",
       "      <td>0</td>\n",
       "      <td>0.395018</td>\n",
       "    </tr>\n",
       "    <tr>\n",
       "      <th>719</th>\n",
       "      <td>124</td>\n",
       "      <td>270</td>\n",
       "      <td>0</td>\n",
       "      <td>20</td>\n",
       "      <td>64</td>\n",
       "      <td>122</td>\n",
       "      <td>0</td>\n",
       "      <td>0.459259</td>\n",
       "    </tr>\n",
       "    <tr>\n",
       "      <th>30</th>\n",
       "      <td>122</td>\n",
       "      <td>270</td>\n",
       "      <td>0</td>\n",
       "      <td>26</td>\n",
       "      <td>61</td>\n",
       "      <td>105</td>\n",
       "      <td>0</td>\n",
       "      <td>0.451852</td>\n",
       "    </tr>\n",
       "    <tr>\n",
       "      <th>431</th>\n",
       "      <td>112</td>\n",
       "      <td>283</td>\n",
       "      <td>1</td>\n",
       "      <td>21</td>\n",
       "      <td>62</td>\n",
       "      <td>102</td>\n",
       "      <td>1</td>\n",
       "      <td>0.395760</td>\n",
       "    </tr>\n",
       "    <tr>\n",
       "      <th>60</th>\n",
       "      <td>107</td>\n",
       "      <td>273</td>\n",
       "      <td>0</td>\n",
       "      <td>24</td>\n",
       "      <td>61</td>\n",
       "      <td>96</td>\n",
       "      <td>0</td>\n",
       "      <td>0.391941</td>\n",
       "    </tr>\n",
       "    <tr>\n",
       "      <th>219</th>\n",
       "      <td>115</td>\n",
       "      <td>274</td>\n",
       "      <td>0</td>\n",
       "      <td>22</td>\n",
       "      <td>65</td>\n",
       "      <td>130</td>\n",
       "      <td>1</td>\n",
       "      <td>0.419708</td>\n",
       "    </tr>\n",
       "    <tr>\n",
       "      <th>1009</th>\n",
       "      <td>108</td>\n",
       "      <td>270</td>\n",
       "      <td>0</td>\n",
       "      <td>29</td>\n",
       "      <td>67</td>\n",
       "      <td>124</td>\n",
       "      <td>1</td>\n",
       "      <td>0.400000</td>\n",
       "    </tr>\n",
       "    <tr>\n",
       "      <th>798</th>\n",
       "      <td>117</td>\n",
       "      <td>269</td>\n",
       "      <td>1</td>\n",
       "      <td>21</td>\n",
       "      <td>64</td>\n",
       "      <td>149</td>\n",
       "      <td>1</td>\n",
       "      <td>0.434944</td>\n",
       "    </tr>\n",
       "    <tr>\n",
       "      <th>236</th>\n",
       "      <td>129</td>\n",
       "      <td>267</td>\n",
       "      <td>0</td>\n",
       "      <td>22</td>\n",
       "      <td>63</td>\n",
       "      <td>160</td>\n",
       "      <td>0</td>\n",
       "      <td>0.483146</td>\n",
       "    </tr>\n",
       "    <tr>\n",
       "      <th>899</th>\n",
       "      <td>85</td>\n",
       "      <td>255</td>\n",
       "      <td>0</td>\n",
       "      <td>24</td>\n",
       "      <td>68</td>\n",
       "      <td>159</td>\n",
       "      <td>0</td>\n",
       "      <td>0.333333</td>\n",
       "    </tr>\n",
       "    <tr>\n",
       "      <th>464</th>\n",
       "      <td>109</td>\n",
       "      <td>273</td>\n",
       "      <td>0</td>\n",
       "      <td>37</td>\n",
       "      <td>65</td>\n",
       "      <td>138</td>\n",
       "      <td>1</td>\n",
       "      <td>0.399267</td>\n",
       "    </tr>\n",
       "    <tr>\n",
       "      <th>717</th>\n",
       "      <td>144</td>\n",
       "      <td>287</td>\n",
       "      <td>1</td>\n",
       "      <td>33</td>\n",
       "      <td>71</td>\n",
       "      <td>153</td>\n",
       "      <td>1</td>\n",
       "      <td>0.501742</td>\n",
       "    </tr>\n",
       "    <tr>\n",
       "      <th>...</th>\n",
       "      <td>...</td>\n",
       "      <td>...</td>\n",
       "      <td>...</td>\n",
       "      <td>...</td>\n",
       "      <td>...</td>\n",
       "      <td>...</td>\n",
       "      <td>...</td>\n",
       "      <td>...</td>\n",
       "    </tr>\n",
       "    <tr>\n",
       "      <th>931</th>\n",
       "      <td>94</td>\n",
       "      <td>268</td>\n",
       "      <td>0</td>\n",
       "      <td>30</td>\n",
       "      <td>62</td>\n",
       "      <td>105</td>\n",
       "      <td>1</td>\n",
       "      <td>0.350746</td>\n",
       "    </tr>\n",
       "    <tr>\n",
       "      <th>157</th>\n",
       "      <td>133</td>\n",
       "      <td>287</td>\n",
       "      <td>0</td>\n",
       "      <td>24</td>\n",
       "      <td>60</td>\n",
       "      <td>104</td>\n",
       "      <td>1</td>\n",
       "      <td>0.463415</td>\n",
       "    </tr>\n",
       "    <tr>\n",
       "      <th>747</th>\n",
       "      <td>174</td>\n",
       "      <td>288</td>\n",
       "      <td>0</td>\n",
       "      <td>25</td>\n",
       "      <td>61</td>\n",
       "      <td>182</td>\n",
       "      <td>0</td>\n",
       "      <td>0.604167</td>\n",
       "    </tr>\n",
       "    <tr>\n",
       "      <th>1015</th>\n",
       "      <td>78</td>\n",
       "      <td>258</td>\n",
       "      <td>1</td>\n",
       "      <td>24</td>\n",
       "      <td>66</td>\n",
       "      <td>115</td>\n",
       "      <td>1</td>\n",
       "      <td>0.302326</td>\n",
       "    </tr>\n",
       "    <tr>\n",
       "      <th>410</th>\n",
       "      <td>132</td>\n",
       "      <td>294</td>\n",
       "      <td>0</td>\n",
       "      <td>32</td>\n",
       "      <td>64</td>\n",
       "      <td>116</td>\n",
       "      <td>0</td>\n",
       "      <td>0.448980</td>\n",
       "    </tr>\n",
       "    <tr>\n",
       "      <th>394</th>\n",
       "      <td>99</td>\n",
       "      <td>313</td>\n",
       "      <td>1</td>\n",
       "      <td>34</td>\n",
       "      <td>59</td>\n",
       "      <td>100</td>\n",
       "      <td>1</td>\n",
       "      <td>0.316294</td>\n",
       "    </tr>\n",
       "    <tr>\n",
       "      <th>145</th>\n",
       "      <td>136</td>\n",
       "      <td>276</td>\n",
       "      <td>0</td>\n",
       "      <td>23</td>\n",
       "      <td>66</td>\n",
       "      <td>155</td>\n",
       "      <td>0</td>\n",
       "      <td>0.492754</td>\n",
       "    </tr>\n",
       "    <tr>\n",
       "      <th>724</th>\n",
       "      <td>139</td>\n",
       "      <td>275</td>\n",
       "      <td>0</td>\n",
       "      <td>33</td>\n",
       "      <td>62</td>\n",
       "      <td>118</td>\n",
       "      <td>0</td>\n",
       "      <td>0.505455</td>\n",
       "    </tr>\n",
       "    <tr>\n",
       "      <th>416</th>\n",
       "      <td>131</td>\n",
       "      <td>297</td>\n",
       "      <td>0</td>\n",
       "      <td>30</td>\n",
       "      <td>67</td>\n",
       "      <td>132</td>\n",
       "      <td>0</td>\n",
       "      <td>0.441077</td>\n",
       "    </tr>\n",
       "    <tr>\n",
       "      <th>185</th>\n",
       "      <td>131</td>\n",
       "      <td>286</td>\n",
       "      <td>0</td>\n",
       "      <td>34</td>\n",
       "      <td>99</td>\n",
       "      <td>999</td>\n",
       "      <td>1</td>\n",
       "      <td>0.458042</td>\n",
       "    </tr>\n",
       "    <tr>\n",
       "      <th>788</th>\n",
       "      <td>136</td>\n",
       "      <td>252</td>\n",
       "      <td>0</td>\n",
       "      <td>27</td>\n",
       "      <td>63</td>\n",
       "      <td>130</td>\n",
       "      <td>0</td>\n",
       "      <td>0.539683</td>\n",
       "    </tr>\n",
       "    <tr>\n",
       "      <th>1024</th>\n",
       "      <td>144</td>\n",
       "      <td>248</td>\n",
       "      <td>0</td>\n",
       "      <td>30</td>\n",
       "      <td>70</td>\n",
       "      <td>145</td>\n",
       "      <td>0</td>\n",
       "      <td>0.580645</td>\n",
       "    </tr>\n",
       "    <tr>\n",
       "      <th>1093</th>\n",
       "      <td>108</td>\n",
       "      <td>256</td>\n",
       "      <td>1</td>\n",
       "      <td>26</td>\n",
       "      <td>67</td>\n",
       "      <td>130</td>\n",
       "      <td>0</td>\n",
       "      <td>0.421875</td>\n",
       "    </tr>\n",
       "    <tr>\n",
       "      <th>918</th>\n",
       "      <td>142</td>\n",
       "      <td>284</td>\n",
       "      <td>1</td>\n",
       "      <td>31</td>\n",
       "      <td>66</td>\n",
       "      <td>137</td>\n",
       "      <td>1</td>\n",
       "      <td>0.500000</td>\n",
       "    </tr>\n",
       "    <tr>\n",
       "      <th>193</th>\n",
       "      <td>125</td>\n",
       "      <td>302</td>\n",
       "      <td>0</td>\n",
       "      <td>32</td>\n",
       "      <td>61</td>\n",
       "      <td>999</td>\n",
       "      <td>1</td>\n",
       "      <td>0.413907</td>\n",
       "    </tr>\n",
       "    <tr>\n",
       "      <th>1142</th>\n",
       "      <td>89</td>\n",
       "      <td>238</td>\n",
       "      <td>1</td>\n",
       "      <td>26</td>\n",
       "      <td>64</td>\n",
       "      <td>136</td>\n",
       "      <td>0</td>\n",
       "      <td>0.373950</td>\n",
       "    </tr>\n",
       "    <tr>\n",
       "      <th>867</th>\n",
       "      <td>116</td>\n",
       "      <td>277</td>\n",
       "      <td>0</td>\n",
       "      <td>41</td>\n",
       "      <td>64</td>\n",
       "      <td>124</td>\n",
       "      <td>1</td>\n",
       "      <td>0.418773</td>\n",
       "    </tr>\n",
       "    <tr>\n",
       "      <th>617</th>\n",
       "      <td>145</td>\n",
       "      <td>278</td>\n",
       "      <td>0</td>\n",
       "      <td>24</td>\n",
       "      <td>62</td>\n",
       "      <td>109</td>\n",
       "      <td>0</td>\n",
       "      <td>0.521583</td>\n",
       "    </tr>\n",
       "    <tr>\n",
       "      <th>321</th>\n",
       "      <td>121</td>\n",
       "      <td>276</td>\n",
       "      <td>0</td>\n",
       "      <td>31</td>\n",
       "      <td>67</td>\n",
       "      <td>130</td>\n",
       "      <td>0</td>\n",
       "      <td>0.438406</td>\n",
       "    </tr>\n",
       "    <tr>\n",
       "      <th>547</th>\n",
       "      <td>111</td>\n",
       "      <td>300</td>\n",
       "      <td>0</td>\n",
       "      <td>20</td>\n",
       "      <td>64</td>\n",
       "      <td>108</td>\n",
       "      <td>1</td>\n",
       "      <td>0.370000</td>\n",
       "    </tr>\n",
       "    <tr>\n",
       "      <th>1039</th>\n",
       "      <td>123</td>\n",
       "      <td>288</td>\n",
       "      <td>0</td>\n",
       "      <td>27</td>\n",
       "      <td>63</td>\n",
       "      <td>125</td>\n",
       "      <td>0</td>\n",
       "      <td>0.427083</td>\n",
       "    </tr>\n",
       "    <tr>\n",
       "      <th>879</th>\n",
       "      <td>129</td>\n",
       "      <td>999</td>\n",
       "      <td>1</td>\n",
       "      <td>19</td>\n",
       "      <td>61</td>\n",
       "      <td>110</td>\n",
       "      <td>0</td>\n",
       "      <td>0.129129</td>\n",
       "    </tr>\n",
       "    <tr>\n",
       "      <th>221</th>\n",
       "      <td>121</td>\n",
       "      <td>275</td>\n",
       "      <td>0</td>\n",
       "      <td>24</td>\n",
       "      <td>63</td>\n",
       "      <td>121</td>\n",
       "      <td>1</td>\n",
       "      <td>0.440000</td>\n",
       "    </tr>\n",
       "    <tr>\n",
       "      <th>82</th>\n",
       "      <td>139</td>\n",
       "      <td>292</td>\n",
       "      <td>0</td>\n",
       "      <td>25</td>\n",
       "      <td>68</td>\n",
       "      <td>135</td>\n",
       "      <td>0</td>\n",
       "      <td>0.476027</td>\n",
       "    </tr>\n",
       "    <tr>\n",
       "      <th>991</th>\n",
       "      <td>117</td>\n",
       "      <td>265</td>\n",
       "      <td>1</td>\n",
       "      <td>24</td>\n",
       "      <td>66</td>\n",
       "      <td>98</td>\n",
       "      <td>0</td>\n",
       "      <td>0.441509</td>\n",
       "    </tr>\n",
       "    <tr>\n",
       "      <th>1040</th>\n",
       "      <td>109</td>\n",
       "      <td>283</td>\n",
       "      <td>0</td>\n",
       "      <td>23</td>\n",
       "      <td>65</td>\n",
       "      <td>112</td>\n",
       "      <td>1</td>\n",
       "      <td>0.385159</td>\n",
       "    </tr>\n",
       "    <tr>\n",
       "      <th>154</th>\n",
       "      <td>129</td>\n",
       "      <td>999</td>\n",
       "      <td>0</td>\n",
       "      <td>23</td>\n",
       "      <td>99</td>\n",
       "      <td>999</td>\n",
       "      <td>1</td>\n",
       "      <td>0.129129</td>\n",
       "    </tr>\n",
       "    <tr>\n",
       "      <th>331</th>\n",
       "      <td>140</td>\n",
       "      <td>290</td>\n",
       "      <td>0</td>\n",
       "      <td>23</td>\n",
       "      <td>65</td>\n",
       "      <td>110</td>\n",
       "      <td>0</td>\n",
       "      <td>0.482759</td>\n",
       "    </tr>\n",
       "    <tr>\n",
       "      <th>118</th>\n",
       "      <td>121</td>\n",
       "      <td>264</td>\n",
       "      <td>0</td>\n",
       "      <td>32</td>\n",
       "      <td>66</td>\n",
       "      <td>145</td>\n",
       "      <td>0</td>\n",
       "      <td>0.458333</td>\n",
       "    </tr>\n",
       "    <tr>\n",
       "      <th>480</th>\n",
       "      <td>107</td>\n",
       "      <td>293</td>\n",
       "      <td>0</td>\n",
       "      <td>20</td>\n",
       "      <td>65</td>\n",
       "      <td>155</td>\n",
       "      <td>1</td>\n",
       "      <td>0.365188</td>\n",
       "    </tr>\n",
       "  </tbody>\n",
       "</table>\n",
       "<p>1236 rows × 8 columns</p>\n",
       "</div>"
      ],
      "text/plain": [
       "      bwt  gestation  parity  age  height  weight  smoke  Ratio BW/GD\n",
       "677   131        274       0   28      64     118      1     0.478102\n",
       "956   130        276       0   41      68     130      0     0.471014\n",
       "230   111        284       0   22      99     999      1     0.390845\n",
       "769   137        318       1   19      64     110      0     0.430818\n",
       "300    80        266       1   25      62     125      0     0.300752\n",
       "765    91        279       1   27      62     118      0     0.326165\n",
       "22    137        287       0   25      66     145      0     0.477352\n",
       "119   100        243       0   39      65     170      1     0.411523\n",
       "840    98        262       0   22      67     120      0     0.374046\n",
       "1077  121        282       0   30      65     122      0     0.429078\n",
       "75    127        274       0   21      62     110      0     0.463504\n",
       "102   116        286       0   24      61     999      0     0.405594\n",
       "168   131        295       0   23      65     123      1     0.444068\n",
       "552   124        290       0   26      59     140      0     0.427586\n",
       "1057  155        290       0   26      66     129      1     0.534483\n",
       "84    138        287       0   30      66     145      0     0.480836\n",
       "1172  123        353       0   26      63     115      0     0.348442\n",
       "933   112        275       1   21      68     143      1     0.407273\n",
       "900   111        281       1   27      64     112      0     0.395018\n",
       "719   124        270       0   20      64     122      0     0.459259\n",
       "30    122        270       0   26      61     105      0     0.451852\n",
       "431   112        283       1   21      62     102      1     0.395760\n",
       "60    107        273       0   24      61      96      0     0.391941\n",
       "219   115        274       0   22      65     130      1     0.419708\n",
       "1009  108        270       0   29      67     124      1     0.400000\n",
       "798   117        269       1   21      64     149      1     0.434944\n",
       "236   129        267       0   22      63     160      0     0.483146\n",
       "899    85        255       0   24      68     159      0     0.333333\n",
       "464   109        273       0   37      65     138      1     0.399267\n",
       "717   144        287       1   33      71     153      1     0.501742\n",
       "...   ...        ...     ...  ...     ...     ...    ...          ...\n",
       "931    94        268       0   30      62     105      1     0.350746\n",
       "157   133        287       0   24      60     104      1     0.463415\n",
       "747   174        288       0   25      61     182      0     0.604167\n",
       "1015   78        258       1   24      66     115      1     0.302326\n",
       "410   132        294       0   32      64     116      0     0.448980\n",
       "394    99        313       1   34      59     100      1     0.316294\n",
       "145   136        276       0   23      66     155      0     0.492754\n",
       "724   139        275       0   33      62     118      0     0.505455\n",
       "416   131        297       0   30      67     132      0     0.441077\n",
       "185   131        286       0   34      99     999      1     0.458042\n",
       "788   136        252       0   27      63     130      0     0.539683\n",
       "1024  144        248       0   30      70     145      0     0.580645\n",
       "1093  108        256       1   26      67     130      0     0.421875\n",
       "918   142        284       1   31      66     137      1     0.500000\n",
       "193   125        302       0   32      61     999      1     0.413907\n",
       "1142   89        238       1   26      64     136      0     0.373950\n",
       "867   116        277       0   41      64     124      1     0.418773\n",
       "617   145        278       0   24      62     109      0     0.521583\n",
       "321   121        276       0   31      67     130      0     0.438406\n",
       "547   111        300       0   20      64     108      1     0.370000\n",
       "1039  123        288       0   27      63     125      0     0.427083\n",
       "879   129        999       1   19      61     110      0     0.129129\n",
       "221   121        275       0   24      63     121      1     0.440000\n",
       "82    139        292       0   25      68     135      0     0.476027\n",
       "991   117        265       1   24      66      98      0     0.441509\n",
       "1040  109        283       0   23      65     112      1     0.385159\n",
       "154   129        999       0   23      99     999      1     0.129129\n",
       "331   140        290       0   23      65     110      0     0.482759\n",
       "118   121        264       0   32      66     145      0     0.458333\n",
       "480   107        293       0   20      65     155      1     0.365188\n",
       "\n",
       "[1236 rows x 8 columns]"
      ]
     },
     "execution_count": 10,
     "metadata": {},
     "output_type": "execute_result"
    }
   ],
   "source": [
    "bootstrap_sample"
   ]
  },
  {
   "cell_type": "markdown",
   "metadata": {},
   "source": [
    "Take the median ratio of the sample:"
   ]
  },
  {
   "cell_type": "code",
   "execution_count": 11,
   "metadata": {},
   "outputs": [
    {
     "data": {
      "text/plain": [
       "0.4280821917808219"
      ]
     },
     "execution_count": 11,
     "metadata": {},
     "output_type": "execute_result"
    }
   ],
   "source": [
    "bootstrap_sample[\"Ratio BW/GD\"].median()"
   ]
  },
  {
   "cell_type": "markdown",
   "metadata": {},
   "source": [
    "How does this median compare to the median of the original data?  The two medians should be similar.\n",
    "\n",
    "#### Step 2:  Take 5,000 samples and compute the median for each as in Step 1.  Store these medians in a list.\n",
    "\n",
    "This step is similiar to what we have done in previous labs, just with a different computation inside the loop.\n",
    "\n",
    "The pseudo-code is:\n",
    "<code>\n",
    " new_list = []\n",
    " for i in range(num_of_loops):\n",
    "     take bootstrap sample\n",
    "     compute median of ratio in bootstrap sample\n",
    "     add median to new_list\n",
    "</code>"
   ]
  },
  {
   "cell_type": "code",
   "execution_count": 16,
   "metadata": {
    "collapsed": true
   },
   "outputs": [],
   "source": [
    "medians = []\n",
    "for i in range(5000):\n",
    "    bootstrap_sample = babies.sample(1236, replace = True)\n",
    "    sample_median = bootstrap_sample[\"Ratio BW/GD\"].median()\n",
    "    medians.append(sample_median)"
   ]
  },
  {
   "cell_type": "markdown",
   "metadata": {},
   "source": [
    "Plot the medians as a histogram, remembering to convert the list into a Pandas Series first:"
   ]
  },
  {
   "cell_type": "code",
   "execution_count": 17,
   "metadata": {},
   "outputs": [
    {
     "data": {
      "text/plain": [
       "<matplotlib.axes._subplots.AxesSubplot at 0x11fb26f98>"
      ]
     },
     "execution_count": 17,
     "metadata": {},
     "output_type": "execute_result"
    },
    {
     "data": {
      "image/png": "[encoded data removed]",
      "text/plain": [
       "<matplotlib.figure.Figure at 0x11f93bb38>"
      ]
     },
     "metadata": {},
     "output_type": "display_data"
    }
   ],
   "source": [
    "pd.Series(medians).hist(bins = 20)"
   ]
  },
  {
   "cell_type": "markdown",
   "metadata": {},
   "source": [
    "<details> <summary>Pattern:</summary>\n",
    "<code>\n",
    "pd.Series(median_list).hist()</code>\n",
    "</details>\n",
    "\n",
    "What do you notice about the distribution?  What is the range of the distribution?  \n",
    "\n",
    "#### Step 3:  Compute the middle 95% of these medians.\n",
    "\n",
    "To get the interval containing the middle 95% of our sample medians, we compute the 2.5 percentile, which is the sample median such that 2.5% of the sample medians are below it, and the 97.5 percentile, which is the sample median such that 97.5% of the sample medians are below it.\n",
    "\n",
    "Pandas has a function for computing *quantiles* which are the percentiles divided by 100.  ie. the 2.5 percentile is the 0.025 quantile and the 97.5 percentile is the 0.975 quantile.\n",
    "\n",
    "Type `pd.Series(medians).quantile(0.025)` below to compute the 0.025 quantile."
   ]
  },
  {
   "cell_type": "code",
   "execution_count": 18,
   "metadata": {},
   "outputs": [
    {
     "data": {
      "text/plain": [
       "0.4251401738808455"
      ]
     },
     "execution_count": 18,
     "metadata": {},
     "output_type": "execute_result"
    }
   ],
   "source": [
    "pd.Series(medians).quantile(0.025)"
   ]
  },
  {
   "cell_type": "markdown",
   "metadata": {},
   "source": [
    "Now compute the 0.975 quantile:"
   ]
  },
  {
   "cell_type": "code",
   "execution_count": 19,
   "metadata": {},
   "outputs": [
    {
     "data": {
      "text/plain": [
       "0.43103448275862066"
      ]
     },
     "execution_count": 19,
     "metadata": {},
     "output_type": "execute_result"
    }
   ],
   "source": [
    "pd.Series(medians).quantile(0.975)"
   ]
  },
  {
   "cell_type": "markdown",
   "metadata": {},
   "source": [
    "The 95% confidence interval is [0.425,0.431] from my calculations.  Yours may differ slightly because we use random sampling to compute this interval.\n",
    "\n",
    "Technically this interval is an *approximation* of the 95% confidence interval that you may have seen in another statistics class.\n",
    "\n",
    "*Interpretation of the 95% confidence interval*: If we repeated this procedure for computing the 95% confidence interval on many different original samples from the population, then 95% of the intervals would contain the true population median.\n",
    "\n",
    "This method for computing the 95% confidence interval also works for means and proportions.  It may not work well if:\n",
    "- the sample size is small (say less than 10 or 15)\n",
    "- the population distribution of the statistic is not roughly bell shaped\n",
    "- we are trying to estimate a statistic that is greatly influenced by outliers or rare elements, like the maximum data value"
   ]
  },
  {
   "cell_type": "markdown",
   "metadata": {},
   "source": [
    "## 95% confidence interval of the proportion of mothers who smoke\n",
    "\n",
    "Now we will use bootstrapping to compute the 95% confidence interval of the proportion of mothers who smoke.\n",
    "\n",
    "First estimate the proportion of mothers who smoke in our sample, by computing:\n",
    "$$\\text{proportion of mothers who smoke} = \\frac{\\text{# of birth where mother smoked}}{\\text{total # of births}}$$\n",
    "\n",
    "Calculate the number of births where mother smoked:"
   ]
  },
  {
   "cell_type": "code",
   "execution_count": 26,
   "metadata": {},
   "outputs": [
    {
     "data": {
      "text/plain": [
       "484"
      ]
     },
     "execution_count": 26,
     "metadata": {},
     "output_type": "execute_result"
    }
   ],
   "source": [
    "smoker_filter = babies[\"smoke\"] == 1\n",
    "num_smoke = smoker_filter.sum()\n",
    "num_smoke"
   ]
  },
  {
   "cell_type": "markdown",
   "metadata": {},
   "source": [
    "<details> <summary>Hint:</summary>\n",
    "Use a filter to find the rows with 1 in the `smoke` column.  \n",
    "</details>\n",
    "\n",
    "We computed the total number of births at the start of the lab.\n",
    "\n",
    "Compute the proportion of mothers who smoke:"
   ]
  },
  {
   "cell_type": "code",
   "execution_count": 27,
   "metadata": {},
   "outputs": [
    {
     "data": {
      "text/plain": [
       "0.39158576051779936"
      ]
     },
     "execution_count": 27,
     "metadata": {},
     "output_type": "execute_result"
    }
   ],
   "source": [
    "num_smoke/1236"
   ]
  },
  {
   "cell_type": "markdown",
   "metadata": {},
   "source": [
    "Now use bootstrapping to compute a 95% confidence interval for the proportion of mothers who smoke.\n",
    "\n",
    "#### Step 1 and 2: Re-sample from the sample and compute the proportion of mothers who smoke for each bootstrap sample.\n",
    "\n",
    "The pseudo-code is:\n",
    "<code>\n",
    " new_list = []\n",
    " for i in range(num_of_loops):\n",
    "     take bootstrap sample\n",
    "     compute proportion of mothers who smoke in bootstrap sample\n",
    "     add proportion to new_list\n",
    "</code>"
   ]
  },
  {
   "cell_type": "code",
   "execution_count": 29,
   "metadata": {
    "collapsed": true
   },
   "outputs": [],
   "source": [
    "proportions = []\n",
    "for i in range(5000):\n",
    "    bootstrap_sample = babies.sample(1236, replace=True)\n",
    "    smoke_filter = bootstrap_sample[\"smoke\"] == 1\n",
    "    num_smoke = smoke_filter.sum()\n",
    "    proportion = num_smoke/1236\n",
    "    proportions.append(proportion)"
   ]
  },
  {
   "cell_type": "markdown",
   "metadata": {},
   "source": [
    "<details> <summary>Answer:</summary>\n",
    "<code>\n",
    "proportions = []\n",
    "for i in range(5000):\n",
    "    bootstrap_sample = babies.sample(1236, replace=True)\n",
    "    smoke_filter = bootstrap_sample[\"smoke\"] == 1\n",
    "    num_smoke = smoke_filter.sum()\n",
    "    proportion = num_smoke/1236\n",
    "    proportions.append(proportion)\n",
    "</code>    \n",
    "</details>\n",
    "\n",
    "Plot a histogram of the proportions, remembering to make the list into a Pandas Series first."
   ]
  },
  {
   "cell_type": "code",
   "execution_count": 30,
   "metadata": {},
   "outputs": [
    {
     "data": {
      "text/plain": [
       "<matplotlib.axes._subplots.AxesSubplot at 0x11fd715c0>"
      ]
     },
     "execution_count": 30,
     "metadata": {},
     "output_type": "execute_result"
    },
    {
     "data": {
      "image/png": "[encoded data removed]",
      "text/plain": [
       "<matplotlib.figure.Figure at 0x11fd65940>"
      ]
     },
     "metadata": {},
     "output_type": "display_data"
    }
   ],
   "source": [
    "pd.Series(proportions).hist(bins = 20)"
   ]
  },
  {
   "cell_type": "markdown",
   "metadata": {},
   "source": [
    "#### Step 3: Compute the 95% confidence interval for the proportions\n",
    "\n",
    "Find the 0.025 quantile and the 0.975 quantile to get the interval."
   ]
  },
  {
   "cell_type": "code",
   "execution_count": 31,
   "metadata": {},
   "outputs": [
    {
     "data": {
      "text/plain": [
       "0.3648867313915858"
      ]
     },
     "execution_count": 31,
     "metadata": {},
     "output_type": "execute_result"
    }
   ],
   "source": [
    "pd.Series(proportions).quantile(0.025)"
   ]
  },
  {
   "cell_type": "markdown",
   "metadata": {},
   "source": [
    "<details> <summary>Pattern:</summary>\n",
    "pd.Series(list_of_sample_statistic).quantile(desired_quantile)\n",
    "</details>"
   ]
  },
  {
   "cell_type": "code",
   "execution_count": 32,
   "metadata": {},
   "outputs": [
    {
     "data": {
      "text/plain": [
       "0.3648867313915858"
      ]
     },
     "execution_count": 32,
     "metadata": {},
     "output_type": "execute_result"
    }
   ],
   "source": [
    "pd.Series(proportions).quantile(0.025)"
   ]
  },
  {
   "cell_type": "markdown",
   "metadata": {},
   "source": [
    "What is your 95% confidence interval?\n",
    "\n",
    "*Interpretation of the 95% confidence interval*: If we repeated this (random) procedure for computing the 95% confidence interval multiple times, then approximately 95% of the confidence intervals computed would contain the true proportion of mothers who smoke in the population."
   ]
  },
  {
   "cell_type": "markdown",
   "metadata": {},
   "source": [
    "### Challenges: \n",
    "- Find the 95% confidence interval for the age of the mothers in the sample.\n",
    "- Find the 95% confidence interval for the mean birth weight in the sample."
   ]
  }
 ],
 "metadata": {
  "kernelspec": {
   "display_name": "Python 3",
   "language": "python",
   "name": "python3"
  },
  "language_info": {
   "codemirror_mode": {
    "name": "ipython",
    "version": 3
   },
   "file_extension": ".py",
   "mimetype": "text/x-python",
   "name": "python",
   "nbconvert_exporter": "python",
   "pygments_lexer": "ipython3",
   "version": "3.7.3"
  }
 },
 "nbformat": 4,
 "nbformat_minor": 2
}
